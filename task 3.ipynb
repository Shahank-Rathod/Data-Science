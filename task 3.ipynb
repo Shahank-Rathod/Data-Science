{
 "cells": [
  {
   "cell_type": "code",
   "execution_count": null,
   "metadata": {},
   "outputs": [],
   "source": [
    "# 1. Create a set with numbers 1 to 10 and find the sum of all elements.\n",
    "\n",
    "set = {1,2,3,4,5,6,7,8,9,10}\n",
    "\n",
    "set1=sum(set)\n",
    "print(set1)"
   ]
  },
  {
   "cell_type": "code",
   "execution_count": 19,
   "metadata": {},
   "outputs": [],
   "source": [
    "# 2. Write a program to check if a tuple contains a specific element using a while loop.\n",
    "   "
   ]
  },
  {
   "cell_type": "code",
   "execution_count": null,
   "metadata": {},
   "outputs": [],
   "source": [
    "#  3. Create a list of strings and use a for loop to convert each string to uppercase.\n",
    "\n",
    "list = [\"apple\",\"banana\",\"kiwi\",\"mango\"]\n",
    "for x in list:\n",
    "    print(x.upper())"
   ]
  },
  {
   "cell_type": "code",
   "execution_count": null,
   "metadata": {},
   "outputs": [],
   "source": [
    "# 4. Using a set, find the intersection of two sets and check if the result is empty or not.\n",
    "\n",
    "set1 = {\"apple\",\"banana\",\"kiwi\"}\n",
    "set2 = {\"mango\",\"banana\",\"pineapple\"}\n",
    "set3 = {}\n",
    "\n",
    "set3 = set1 & set2\n",
    "print(set3)"
   ]
  },
  {
   "cell_type": "code",
   "execution_count": 3,
   "metadata": {},
   "outputs": [
    {
     "name": "stdout",
     "output_type": "stream",
     "text": [
      "15\n"
     ]
    }
   ],
   "source": [
    "# 5. Create a tuple of numbers and calculate the product of all elements using a for loop.\n",
    "\n",
    "tuple = (1,2,3,4,5)\n",
    "product = 0\n",
    "for x in tuple:\n",
    "    product = product + x\n",
    "print(product)\n"
   ]
  },
  {
   "cell_type": "code",
   "execution_count": 6,
   "metadata": {},
   "outputs": [
    {
     "name": "stdout",
     "output_type": "stream",
     "text": [
      "knahsahS\n"
     ]
    }
   ],
   "source": [
    "# 6. Write a program that uses a while loop to reverse a string character by character.\n",
    "\n",
    "string = \"Shashank\"\n",
    "reverse_string = \"\"\n",
    "index = len(string)\n",
    "while index > 0:\n",
    "    reverse_string += string[index - 1]\n",
    "    index = index - 1\n",
    "print(reverse_string)\n"
   ]
  },
  {
   "cell_type": "code",
   "execution_count": null,
   "metadata": {},
   "outputs": [],
   "source": [
    "# 7. Compare two lists of integers and check if all elements in the first list are greater than those in the second list.\n",
    "\n",
    "list1 = [5,6,4]\n",
    "list2 = [7,1,3]\n",
    "x = 0\n",
    "for x in list1:\n",
    "    for y in list2:\n",
    "        if x >= y:\n",
    "            print(f\" {x} > {y}  True\")\n",
    "        else:\n",
    "            print(f\" {x} > {y}  False\")"
   ]
  },
  {
   "cell_type": "code",
   "execution_count": null,
   "metadata": {},
   "outputs": [],
   "source": [
    "# 8. Use the and operator to check if a number is between 10 and 20 and is even.\n",
    "num =11\n",
    "\n",
    "if num %2 == 0 and num >= 10 or num %2 == 0 and num<=20:\n",
    "    print(\"yes\")\n",
    "else:\n",
    "    print(\"no\")"
   ]
  },
  {
   "cell_type": "code",
   "execution_count": null,
   "metadata": {},
   "outputs": [],
   "source": [
    "# 9. Create a set of numbers and remove all elements greater than a specific value using a loop.\n",
    "\n",
    "set1 = [1,2,3,4,5,6]\n",
    "for x in set1.copy():\n",
    "    if x > 3:\n",
    "        set1.remove(x)\n",
    "print(set1)"
   ]
  },
  {
   "cell_type": "code",
   "execution_count": null,
   "metadata": {},
   "outputs": [],
   "source": [
    "# 10. Write a program to find the longest string in a list using a for loop.\n",
    "\n",
    "list = [\"apple\",\"banana\",\"kiwi\"]\n",
    "max = \"\"\n",
    "\n",
    "for x in list:\n",
    "    if len(x)>len(max):\n",
    "        max = x\n",
    "print(max)"
   ]
  },
  {
   "cell_type": "code",
   "execution_count": null,
   "metadata": {},
   "outputs": [],
   "source": [
    "# 11. Check if a tuple contains only numeric values using a for loop and the or operator.\n",
    "\n",
    "tuple = (1,2,3,\"A\",5)\n",
    "\n",
    "for x in tuple:\n",
    "    if type(x) == int:\n",
    "        print(\"yes\")\n",
    "    else:\n",
    "        print(\"no\")"
   ]
  },
  {
   "cell_type": "code",
   "execution_count": 7,
   "metadata": {},
   "outputs": [
    {
     "name": "stdout",
     "output_type": "stream",
     "text": [
      "1\n"
     ]
    }
   ],
   "source": [
    "# 12. Write a program to count how many times a substring appears in a string using a while loop.\n",
    "\n",
    "# string = \"Shashank\"\n",
    "# substring = \"sh\"\n",
    "# count = 0\n",
    "# index = 0\n",
    "# while index < len(string):\n",
    "#     if string[index:index+2] == substring:\n",
    "#         count += 1\n",
    "#     index += 1\n",
    "# print(count)\n"
   ]
  },
  {
   "cell_type": "code",
   "execution_count": null,
   "metadata": {},
   "outputs": [],
   "source": [
    "# 13. Create two sets of strings and check if they have any common elements using the and operator\n",
    "\n",
    "set1 = {\"apple\",\"banana\",\"kiwi\"}\n",
    "set2 = {\"apple\",\"cherry\",\"pineapple\"}\n",
    "\n",
    "set3 = set1 & set2\n",
    "print(set3)"
   ]
  },
  {
   "cell_type": "code",
   "execution_count": null,
   "metadata": {},
   "outputs": [],
   "source": [
    "# 14. Use a list comprehension with a condition to filter even numbers from a list.\n",
    "\n",
    "list = [1,2,3,4,5,6,7,8,9,10]\n",
    "\n",
    "for x in list:\n",
    "    if x % 2 == 0:\n",
    "        print(x)\n",
    "    "
   ]
  },
  {
   "cell_type": "code",
   "execution_count": null,
   "metadata": {},
   "outputs": [],
   "source": [
    "# 15. Create a tuple of numbers and calculate the difference between the maximum and minimum elements.\n",
    "\n",
    "numbers = (1,4,6,3,6,3,0)\n",
    "max =numbers[0]\n",
    "min =numbers[0]\n",
    "for x in numbers:\n",
    "    if x > max:\n",
    "        max = x\n",
    "    if x < min:\n",
    "        min = x\n",
    "diff = max - min\n",
    "print(f\"max num is {max} and min num is {min} The diffrence is :\",diff)"
   ]
  },
  {
   "cell_type": "code",
   "execution_count": 31,
   "metadata": {},
   "outputs": [
    {
     "ename": "TypeError",
     "evalue": "str.upper() takes no keyword arguments",
     "output_type": "error",
     "traceback": [
      "\u001b[1;31m---------------------------------------------------------------------------\u001b[0m",
      "\u001b[1;31mTypeError\u001b[0m                                 Traceback (most recent call last)",
      "Cell \u001b[1;32mIn[31], line 5\u001b[0m\n\u001b[0;32m      1\u001b[0m \u001b[38;5;66;03m# 16. Check if a string contains both uppercase and lowercase letters using the and operator.\u001b[39;00m\n\u001b[0;32m      3\u001b[0m string \u001b[38;5;241m=\u001b[39m \u001b[38;5;124m\"\u001b[39m\u001b[38;5;124mApple\u001b[39m\u001b[38;5;124m\"\u001b[39m\n\u001b[1;32m----> 5\u001b[0m \u001b[38;5;28;01mif\u001b[39;00m \u001b[43mstring\u001b[49m\u001b[38;5;241;43m.\u001b[39;49m\u001b[43mupper\u001b[49m\u001b[43m(\u001b[49m\u001b[43mcase\u001b[49m\u001b[43m \u001b[49m\u001b[38;5;241;43m=\u001b[39;49m\u001b[43m \u001b[49m\u001b[38;5;28;43;01mTrue\u001b[39;49;00m\u001b[43m)\u001b[49m \u001b[38;5;129;01mand\u001b[39;00m string\u001b[38;5;241m.\u001b[39mlower(case \u001b[38;5;241m=\u001b[39m \u001b[38;5;28;01mFalse\u001b[39;00m):\n\u001b[0;32m      6\u001b[0m     \u001b[38;5;28mprint\u001b[39m(string)\n",
      "\u001b[1;31mTypeError\u001b[0m: str.upper() takes no keyword arguments"
     ]
    }
   ],
   "source": [
    "# 16. Check if a string contains both uppercase and lowercase letters using the and operator.\n",
    "\n",
    "# string = \"Apple\"\n",
    "\n",
    "# if string.upper(case = True) and string.lower(case = False):\n",
    "#     print(string)"
   ]
  },
  {
   "cell_type": "code",
   "execution_count": 13,
   "metadata": {},
   "outputs": [
    {
     "name": "stdout",
     "output_type": "stream",
     "text": [
      "[1, 2, 4, 5, 7, 8, 10]\n"
     ]
    }
   ],
   "source": [
    "# 17. Use a while loop to remove all elements from a list that are divisible by 3.\n",
    "\n",
    "list = [1,2,3,4,5,6,7,8,9,10]\n",
    "x=0\n",
    "while x < len(list):\n",
    "    if list[x] % 3 == 0:\n",
    "        list.pop(x)\n",
    "    else:\n",
    "        x +=1\n",
    "print(list)"
   ]
  },
  {
   "cell_type": "code",
   "execution_count": null,
   "metadata": {},
   "outputs": [
    {
     "name": "stdout",
     "output_type": "stream",
     "text": [
      "min num is 1\n"
     ]
    }
   ],
   "source": [
    "# 18. Write a program to find the smallest number in a list without using the min function.\n",
    "\n",
    "numbers = [1,4,6,3,6,3]\n",
    "min =numbers[0]\n",
    "for x in numbers:\n",
    "    if x < min:\n",
    "        min = x\n",
    "print(f\"minimum num is {min}\")"
   ]
  },
  {
   "cell_type": "code",
   "execution_count": 44,
   "metadata": {},
   "outputs": [
    {
     "name": "stdout",
     "output_type": "stream",
     "text": [
      "0.2\n",
      "0.4\n",
      "0.6\n",
      "0.8\n",
      "1.0\n"
     ]
    }
   ],
   "source": [
    "#19. Create a set of numbers and calculate the average using a for loop.\n",
    "\n",
    "set1= {1,2,3,4,5}\n",
    "num = 0\n",
    "\n",
    "for x in set1:\n",
    "    num = num+x\n",
    "    print(x/len(set1))\n"
   ]
  },
  {
   "cell_type": "code",
   "execution_count": 46,
   "metadata": {},
   "outputs": [
    {
     "name": "stdout",
     "output_type": "stream",
     "text": [
      "no\n"
     ]
    }
   ],
   "source": [
    "# 20. Check if the concatenation of two strings is a palindrome using string operations and the not operator.\n",
    "\n",
    "string1 = \"apple\"\n",
    "string2 = \"banana\"\n",
    "\n",
    "string3 = string1+string2\n",
    "if string3 != string3[::-1]:\n",
    "    print(\"no\")\n",
    "else:\n",
    "    print(\"yes\")\n",
    "\n"
   ]
  },
  {
   "cell_type": "code",
   "execution_count": 55,
   "metadata": {},
   "outputs": [
    {
     "name": "stdout",
     "output_type": "stream",
     "text": [
      "*ha*hank\n"
     ]
    }
   ],
   "source": [
    "# 21. Write a program to replace all vowels in a string with a specific character using a for loop.\n",
    "\n",
    "str = \"shashank\"\n",
    "vowels = \"a\",\"e\",\"i\",\"o\",\"u\"\n",
    "for x in str:\n",
    "    if x in vowels:\n",
    "        str = str.replace(\"s\",\"*\")\n",
    "\n",
    "\n",
    "print(str)"
   ]
  },
  {
   "cell_type": "code",
   "execution_count": 57,
   "metadata": {},
   "outputs": [
    {
     "name": "stdout",
     "output_type": "stream",
     "text": [
      "yes\n"
     ]
    }
   ],
   "source": [
    "# 22. Create two tuples and check if one is a subset of the other using a loop.\n",
    "\n",
    "tup1 = (1,2,3,4,5,6,7,8,9,0)\n",
    "tup2 = (1,2,3,4,5,)\n",
    "\n",
    "for x in tup1:\n",
    "    if x in tup2:\n",
    "        print(\"yes\")\n",
    "        break\n",
    "    else:\n",
    "        print(\"no\")\n"
   ]
  },
  {
   "cell_type": "code",
   "execution_count": 59,
   "metadata": {},
   "outputs": [
    {
     "name": "stdout",
     "output_type": "stream",
     "text": [
      "6\n"
     ]
    }
   ],
   "source": [
    "# 23. Use a while loop to count the number of digits in a number.\n",
    "\n",
    "num = 123456\n",
    "count = 0\n",
    "while num > 0:\n",
    "    num = num//10\n",
    "    count += 1\n",
    "print(count)\n"
   ]
  },
  {
   "cell_type": "code",
   "execution_count": 60,
   "metadata": {},
   "outputs": [
    {
     "name": "stdout",
     "output_type": "stream",
     "text": [
      "no\n"
     ]
    }
   ],
   "source": [
    "# 24. Write a program to check if a list is sorted in ascending order using a for loop.\n",
    "\n",
    "list = [\"apple\",\"banana\",\"kiwi\",\"mango\"]\n",
    "for x in list:\n",
    "    if x == sorted(list):\n",
    "        print(\"yes\")\n",
    "        break\n",
    "    else:\n",
    "        print(\"no\")\n",
    "        break"
   ]
  },
  {
   "cell_type": "code",
   "execution_count": 64,
   "metadata": {},
   "outputs": [
    {
     "name": "stdout",
     "output_type": "stream",
     "text": [
      "no\n"
     ]
    }
   ],
   "source": [
    "# 25. Create a set of strings and find the string with the most vowels using a loop.\n",
    "\n",
    "# set1 = {\"apple\",\"banana\",\"kiwi\",\"mango\"}\n",
    "\n"
   ]
  },
  {
   "cell_type": "code",
   "execution_count": 70,
   "metadata": {},
   "outputs": [
    {
     "name": "stdout",
     "output_type": "stream",
     "text": [
      "('mango', 'kiwi', 'banana', 'apple')\n"
     ]
    }
   ],
   "source": [
    "# 26. Write a program to reverse a tuple using a loop.\n",
    "\n",
    "tup = (\"apple\",\"banana\",\"kiwi\",\"mango\")\n",
    "# r = \"\"\n",
    "# index = len(tup)-1\n",
    "# while index >= 0 :\n",
    "#     r += tup[index]\n",
    "#     index -= 1\n",
    "# print(r)\n",
    "\n",
    "for x in tup:\n",
    "    pass\n",
    "print(tup[::-1])\n"
   ]
  },
  {
   "cell_type": "code",
   "execution_count": 83,
   "metadata": {},
   "outputs": [
    {
     "name": "stdout",
     "output_type": "stream",
     "text": [
      "yes\n"
     ]
    }
   ],
   "source": [
    "# 27. Check if a number is prime using a while loop and comparison operators.\n",
    "\n",
    "number = 13\n",
    "x = 2\n",
    "while number >0:\n",
    "    if number % x == 0:\n",
    "        print(\"no\")\n",
    "        break\n",
    "    else:\n",
    "        print(\"yes\")\n",
    "        break"
   ]
  },
  {
   "cell_type": "code",
   "execution_count": 87,
   "metadata": {},
   "outputs": [
    {
     "name": "stdout",
     "output_type": "stream",
     "text": [
      "yes\n"
     ]
    }
   ],
   "source": [
    "# 28. Use the and and or operators to check multiple conditions for numbers in a list.\n",
    "\n",
    "list = [1,2,3,4,5,6,7,8,9,10]\n",
    "\n",
    "for x in list:\n",
    "    if x > 3 and x < 7 or x > 8 and x < 10:\n",
    "        pass\n",
    "print(\"yes\")"
   ]
  },
  {
   "cell_type": "code",
   "execution_count": 94,
   "metadata": {},
   "outputs": [
    {
     "name": "stdout",
     "output_type": "stream",
     "text": [
      "120\n"
     ]
    }
   ],
   "source": [
    "# 29. Write a program to calculate the factorial of a number using a while loop.\n",
    "\n",
    "num = 5\n",
    "fact = 1\n",
    "while num > 0:\n",
    "    fact = fact*num\n",
    "    num -= 1\n",
    "print(fact)"
   ]
  },
  {
   "cell_type": "code",
   "execution_count": 95,
   "metadata": {},
   "outputs": [
    {
     "name": "stdout",
     "output_type": "stream",
     "text": [
      "[1, 2, 3, 4, 5, 6, 7, 8, 9, 10]\n"
     ]
    }
   ],
   "source": [
    "#30. Create a list of numbers and use a loop to replace all negative numbers with their absolute values.\n",
    "\n",
    "list = [1,-2,3,-4,5,-6,7,-8,9,-10]\n",
    "for x in list:\n",
    "    if x < 0:\n",
    "        list[list.index(x)] = abs(x)\n",
    "print(list)"
   ]
  }
 ],
 "metadata": {
  "kernelspec": {
   "display_name": "Python 3",
   "language": "python",
   "name": "python3"
  },
  "language_info": {
   "codemirror_mode": {
    "name": "ipython",
    "version": 3
   },
   "file_extension": ".py",
   "mimetype": "text/x-python",
   "name": "python",
   "nbconvert_exporter": "python",
   "pygments_lexer": "ipython3",
   "version": "3.12.3"
  }
 },
 "nbformat": 4,
 "nbformat_minor": 2
}

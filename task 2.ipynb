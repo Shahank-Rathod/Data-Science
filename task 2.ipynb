{
 "cells": [
  {
   "cell_type": "code",
   "execution_count": 4,
   "metadata": {},
   "outputs": [
    {
     "name": "stdout",
     "output_type": "stream",
     "text": [
      "apple\n",
      "banana\n",
      "kiwi\n"
     ]
    }
   ],
   "source": [
    "# 1. Basic For Loop\n",
    "\n",
    "list = [\"apple\",\"banana\",\"kiwi\"]\n",
    "for x in list:\n",
    "    print(x)"
   ]
  },
  {
   "cell_type": "code",
   "execution_count": 8,
   "metadata": {},
   "outputs": [
    {
     "name": "stdout",
     "output_type": "stream",
     "text": [
      "apple\n",
      "banana\n",
      "kiwi\n",
      "pineapple\n"
     ]
    }
   ],
   "source": [
    "# 2. Index-Based Loop\n",
    "\n",
    "list = [\"apple\",\"banana\",\"kiwi\",\"pineapple\"]\n",
    "for i in range(len(list)):\n",
    "    print(list[i])"
   ]
  },
  {
   "cell_type": "code",
   "execution_count": 30,
   "metadata": {},
   "outputs": [
    {
     "name": "stdout",
     "output_type": "stream",
     "text": [
      "apple\n",
      "banana\n",
      "kiwi\n"
     ]
    }
   ],
   "source": [
    "# 3. While Loop\n",
    "\n",
    "list = [\"apple\",\"banana\",\"kiwi\"]\n",
    "i=0\n",
    "while i < len(list):\n",
    "    print(list[i])\n",
    "    i = i+1"
   ]
  },
  {
   "cell_type": "code",
   "execution_count": 31,
   "metadata": {},
   "outputs": [],
   "source": [
    "# 4. List Comprehension Loop"
   ]
  },
  {
   "cell_type": "code",
   "execution_count": 37,
   "metadata": {},
   "outputs": [
    {
     "name": "stdout",
     "output_type": "stream",
     "text": [
      "['apple', 'banana']\n"
     ]
    }
   ],
   "source": [
    "# 5. Filter with List Comprehension\n",
    "\n",
    "list = [\"apple\",\"banana\",\"kiwi\"]\n",
    "list2 = []\n",
    "for i in list:\n",
    "    if \"a\" in i:\n",
    "        list2.append(i)\n",
    "print(list2)"
   ]
  },
  {
   "cell_type": "code",
   "execution_count": 2,
   "metadata": {},
   "outputs": [
    {
     "name": "stdout",
     "output_type": "stream",
     "text": [
      "['apple', 'kiwi', 'kiwi']\n"
     ]
    }
   ],
   "source": [
    "# 6. Conditionally Replace Values\n",
    "\n",
    "list = [\"apple\",\"banana\",\"kiwi\"]\n",
    "list[1] =\"orange\"\n",
    "\n",
    "print(list)"
   ]
  },
  {
   "cell_type": "code",
   "execution_count": 7,
   "metadata": {},
   "outputs": [
    {
     "name": "stdout",
     "output_type": "stream",
     "text": [
      "APPLE\n",
      "BANANA\n",
      "KIWI\n"
     ]
    }
   ],
   "source": [
    "# 7. Create Uppercase List\n",
    "\n",
    "list = [\"apple\",\"banana\",\"kiwi\"]\n",
    "\n",
    "for x in list:\n",
    "    print(x.upper())"
   ]
  },
  {
   "cell_type": "code",
   "execution_count": 8,
   "metadata": {},
   "outputs": [
    {
     "name": "stdout",
     "output_type": "stream",
     "text": [
      "['apple', 'banana', 'kiwi', 'pineapple']\n"
     ]
    }
   ],
   "source": [
    "# 8. Sort Alphabetically\n",
    "\n",
    "list = [\"kiwi\",\"banana\",\"apple\",\"pineapple\"]\n",
    "list.sort()\n",
    "print(list)"
   ]
  },
  {
   "cell_type": "code",
   "execution_count": 11,
   "metadata": {},
   "outputs": [
    {
     "name": "stdout",
     "output_type": "stream",
     "text": [
      "['pineapple', 'kiwi', 'banana', 'apple']\n"
     ]
    }
   ],
   "source": [
    "# 9. Sort in Reverse\n",
    "\n",
    "list = [\"kiwi\",\"banana\",\"apple\",\"pineapple\"]\n",
    "list.sort(reverse = True)\n",
    "print(list)"
   ]
  },
  {
   "cell_type": "code",
   "execution_count": 3,
   "metadata": {},
   "outputs": [],
   "source": [
    "# 10. Case-Insensitive Sort\n"
   ]
  },
  {
   "cell_type": "code",
   "execution_count": 4,
   "metadata": {},
   "outputs": [
    {
     "name": "stdout",
     "output_type": "stream",
     "text": [
      "['pineapple', 'kiwi', 'banana', 'apple']\n"
     ]
    }
   ],
   "source": [
    "# 11. Reverse List Order\n",
    "\n",
    "list = [\"apple\", \"banana\", \"kiwi\", \"pineapple\"]\n",
    "\n",
    "list.reverse()\n",
    "print(list)"
   ]
  },
  {
   "cell_type": "code",
   "execution_count": 12,
   "metadata": {},
   "outputs": [
    {
     "name": "stdout",
     "output_type": "stream",
     "text": [
      "['apple', 'banana', 'kiwi']\n"
     ]
    }
   ],
   "source": [
    "# 12. Copy a List Using copy()\n",
    "\n",
    "list = [\"apple\", \"banana\", \"kiwi\"]\n",
    "list2 = []\n",
    "list2 = list.copy()\n",
    "print(list2)"
   ]
  },
  {
   "cell_type": "code",
   "execution_count": 15,
   "metadata": {},
   "outputs": [
    {
     "name": "stdout",
     "output_type": "stream",
     "text": [
      "['apple', 'banana', 'kiwi']\n"
     ]
    }
   ],
   "source": [
    "# 14. Copy Using Slicing\n",
    "\n",
    "list = [\"apple\", \"banana\", \"kiwi\"]\n",
    "list2 = list[::]\n",
    "print(list2) "
   ]
  },
  {
   "cell_type": "code",
   "execution_count": 18,
   "metadata": {},
   "outputs": [
    {
     "name": "stdout",
     "output_type": "stream",
     "text": [
      "['apple', 'banana', 'kiwi', 1, 2, 3]\n"
     ]
    }
   ],
   "source": [
    "# 15. Join Two Lists\n",
    "\n",
    "list1 = [\"apple\",\"banana\",\"kiwi\"]\n",
    "list2 = [1,2,3]\n",
    "\n",
    "list3 = list1 + list2\n",
    "print(list3)"
   ]
  },
  {
   "cell_type": "code",
   "execution_count": 20,
   "metadata": {},
   "outputs": [
    {
     "name": "stdout",
     "output_type": "stream",
     "text": [
      "[1, 2, 3, 'apple', 'banana', 'kiwi']\n"
     ]
    }
   ],
   "source": [
    "# 16. Append One List to Another\n",
    "\n",
    "list1 = [\"apple\",\"banana\",\"kiwi\"]\n",
    "list2 = [1,2,3]\n",
    "\n",
    "for x in list1:\n",
    "    list2.append(x)\n",
    "print(list2)"
   ]
  },
  {
   "cell_type": "code",
   "execution_count": 22,
   "metadata": {},
   "outputs": [
    {
     "name": "stdout",
     "output_type": "stream",
     "text": [
      "['apple', 'banana', 'kiwi', 1, 2, 3]\n"
     ]
    }
   ],
   "source": [
    "# 17. Use extend()\n",
    "\n",
    "list1 = [\"apple\",\"banana\",\"kiwi\"]\n",
    "list2 = [1,2,3]\n",
    "\n",
    "list1.extend(list2)\n",
    "print(list1)"
   ]
  },
  {
   "cell_type": "code",
   "execution_count": 24,
   "metadata": {},
   "outputs": [
    {
     "name": "stdout",
     "output_type": "stream",
     "text": [
      "2\n"
     ]
    }
   ],
   "source": [
    "# 18. Count List Items\n",
    "\n",
    "list = [\"apple\",\"banana\",\"kiwi\",\"banana\"]\n",
    "print(list.count(\"banana\"))"
   ]
  },
  {
   "cell_type": "code",
   "execution_count": 26,
   "metadata": {},
   "outputs": [
    {
     "name": "stdout",
     "output_type": "stream",
     "text": [
      "['apple', 'banana', 'pineapple', 'kiwi']\n"
     ]
    }
   ],
   "source": [
    "# 19. Insert an Item\n",
    "\n",
    "list = [\"apple\",\"banana\",\"kiwi\"]\n",
    "list.insert(2,\"pineapple\")\n",
    "print(list)"
   ]
  },
  {
   "cell_type": "code",
   "execution_count": 1,
   "metadata": {},
   "outputs": [
    {
     "name": "stdout",
     "output_type": "stream",
     "text": [
      "['banana', 'kiwi']\n"
     ]
    }
   ],
   "source": [
    "# 20. Remove an Item\n",
    "\n",
    "list = [\"apple\",\"banana\",\"kiwi\"]\n",
    "\n",
    "list.remove(\"apple\")\n",
    "\n",
    "print(list)"
   ]
  },
  {
   "cell_type": "code",
   "execution_count": null,
   "metadata": {},
   "outputs": [],
   "source": []
  }
 ],
 "metadata": {
  "kernelspec": {
   "display_name": "Python 3",
   "language": "python",
   "name": "python3"
  },
  "language_info": {
   "codemirror_mode": {
    "name": "ipython",
    "version": 3
   },
   "file_extension": ".py",
   "mimetype": "text/x-python",
   "name": "python",
   "nbconvert_exporter": "python",
   "pygments_lexer": "ipython3",
   "version": "3.13.1"
  }
 },
 "nbformat": 4,
 "nbformat_minor": 2
}

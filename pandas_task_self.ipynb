{
 "cells": [
  {
   "cell_type": "markdown",
   "metadata": {},
   "source": [
    "Data cleaning"
   ]
  },
  {
   "cell_type": "code",
   "execution_count": 3,
   "metadata": {},
   "outputs": [
    {
     "name": "stdout",
     "output_type": "stream",
     "text": [
      "<bound method DataFrame.to_string of Empty DataFrame\n",
      "Columns: [USER_ID, MOVIE_ID, MOVIE_TITLE, PRODUCTION_YEAR, GENRES, RATING, Unnamed: 6, Unnamed: 7, GENRES.1, Unnamed: 9]\n",
      "Index: []>\n"
     ]
    }
   ],
   "source": [
    "import pandas as pd\n",
    "\n",
    "\n",
    "# load = r\"D:\\Data Science\\Reading Material\\pandas\\Movieratingdata.csv\"\n",
    "df = pd.read_csv('Movieratingdata.csv')\n",
    "\n",
    "new_df = df.dropna()\n",
    "print(new_df.to_string)"
   ]
  },
  {
   "cell_type": "code",
   "execution_count": null,
   "metadata": {},
   "outputs": [],
   "source": []
  }
 ],
 "metadata": {
  "kernelspec": {
   "display_name": "Python 3",
   "language": "python",
   "name": "python3"
  },
  "language_info": {
   "codemirror_mode": {
    "name": "ipython",
    "version": 3
   },
   "file_extension": ".py",
   "mimetype": "text/x-python",
   "name": "python",
   "nbconvert_exporter": "python",
   "pygments_lexer": "ipython3",
   "version": "3.12.3"
  }
 },
 "nbformat": 4,
 "nbformat_minor": 2
}

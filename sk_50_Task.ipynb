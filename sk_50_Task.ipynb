{
 "cells": [
  {
   "cell_type": "code",
   "execution_count": 2,
   "metadata": {},
   "outputs": [
    {
     "data": {
      "text/plain": [
       "'1.26.4'"
      ]
     },
     "execution_count": 2,
     "metadata": {},
     "output_type": "execute_result"
    }
   ],
   "source": [
    "# 1. Import NumPy and check its version.\n",
    "\n",
    "import numpy\n",
    "\n",
    "numpy.__version__"
   ]
  },
  {
   "cell_type": "code",
   "execution_count": 2,
   "metadata": {},
   "outputs": [
    {
     "name": "stdout",
     "output_type": "stream",
     "text": [
      "[ 1  2  3  4  5  6  7  8  9 10]\n"
     ]
    }
   ],
   "source": [
    "# 2. Create a 1D NumPy array of numbers from 1 to 10.\n",
    "\n",
    "print(numpy.arange(1, 11))"
   ]
  },
  {
   "cell_type": "code",
   "execution_count": 3,
   "metadata": {},
   "outputs": [
    {
     "name": "stdout",
     "output_type": "stream",
     "text": [
      "[[0. 0. 0.]\n",
      " [0. 0. 0.]\n",
      " [0. 0. 0.]]\n"
     ]
    }
   ],
   "source": [
    "# 3. Create a 2D NumPy array of shape (3,3) filled with zeros.\n",
    "\n",
    "print(numpy.zeros((3, 3)))"
   ]
  },
  {
   "cell_type": "code",
   "execution_count": 5,
   "metadata": {},
   "outputs": [
    {
     "name": "stdout",
     "output_type": "stream",
     "text": [
      "[[1. 0. 0.]\n",
      " [0. 1. 0.]\n",
      " [0. 0. 1.]]\n"
     ]
    }
   ],
   "source": [
    "# 4. Create a 3x3 identity matrix.\n",
    "\n",
    "print(numpy.eye(3))"
   ]
  },
  {
   "cell_type": "code",
   "execution_count": 26,
   "metadata": {},
   "outputs": [
    {
     "data": {
      "text/plain": [
       "array([0.63577798, 0.36023082, 0.43114718, 0.47423763, 0.77212997,\n",
       "       0.60006897, 0.19487162, 0.93788085, 0.30066132, 0.89218943])"
      ]
     },
     "execution_count": 26,
     "metadata": {},
     "output_type": "execute_result"
    }
   ],
   "source": [
    "# 5. Generate a NumPy array of 10 random numbers between 0 and 1.\n",
    "\n",
    "import numpy as np\n",
    "\n",
    "np.random.rand(10)"
   ]
  },
  {
   "cell_type": "code",
   "execution_count": 30,
   "metadata": {},
   "outputs": [
    {
     "data": {
      "text/plain": [
       "array([ 2,  4,  6,  8, 10, 12, 14, 16, 18, 20])"
      ]
     },
     "execution_count": 30,
     "metadata": {},
     "output_type": "execute_result"
    }
   ],
   "source": [
    "# 6. Create an array of even numbers from 2 to 20.\n",
    "\n",
    "np.arange(2, 21, 2)\n"
   ]
  },
  {
   "cell_type": "code",
   "execution_count": 31,
   "metadata": {},
   "outputs": [
    {
     "data": {
      "text/plain": [
       "array([5, 4, 3, 2, 1])"
      ]
     },
     "execution_count": 31,
     "metadata": {},
     "output_type": "execute_result"
    }
   ],
   "source": [
    "# 7. Reverse a NumPy array.\n",
    "\n",
    "arr = np.array([1,2,3,4,5])\n",
    "arr[::-1]"
   ]
  },
  {
   "cell_type": "code",
   "execution_count": 33,
   "metadata": {},
   "outputs": [
    {
     "name": "stdout",
     "output_type": "stream",
     "text": [
      "5\n",
      "1\n"
     ]
    }
   ],
   "source": [
    "# 8. Find the maximum and minimum values in an array.\n",
    "\n",
    "arr = np.array([1,2,3,4,5])\n",
    "\n",
    "print(arr.max())\n",
    "print(arr.min())"
   ]
  },
  {
   "cell_type": "code",
   "execution_count": 10,
   "metadata": {},
   "outputs": [
    {
     "name": "stdout",
     "output_type": "stream",
     "text": [
      "2.8722813232690143\n",
      "4.5\n",
      "4.5\n"
     ]
    }
   ],
   "source": [
    "# 9. Find the mean, median, and standard deviation of an array.\n",
    "import numpy as np\n",
    "\n",
    "arr = np.array([1,2,3,4,5,6,7,8,9,0])\n",
    "\n",
    "print(np.std(arr))\n",
    "print(np.median(arr))\n",
    "print(np.mean(arr))"
   ]
  },
  {
   "cell_type": "code",
   "execution_count": 27,
   "metadata": {},
   "outputs": [
    {
     "name": "stdout",
     "output_type": "stream",
     "text": [
      "[1 2 3 4 5]\n"
     ]
    }
   ],
   "source": [
    "# 10. Reshape a 1D array into a 2D array.\n",
    "\n",
    "import numpy as np\n",
    "\n",
    "arr = np.array([1,2,3,4,5])\n",
    "# np.reshape(arr, (1, 5))\n",
    "print(arr)\n",
    "\n"
   ]
  },
  {
   "cell_type": "code",
   "execution_count": 34,
   "metadata": {},
   "outputs": [
    {
     "name": "stdout",
     "output_type": "stream",
     "text": [
      "[[ 0  1  2  3]\n",
      " [ 4  5  6  7]\n",
      " [ 8  9 10 11]\n",
      " [12 13 14 15]]\n"
     ]
    }
   ],
   "source": [
    "# 11. Create a 4x4 matrix with values ranging from 0 to 15.\n",
    "\n",
    "import numpy as np\n",
    "\n",
    "arr = np.arange(0, 16).reshape(4, 4)\n",
    "print(arr)"
   ]
  },
  {
   "cell_type": "code",
   "execution_count": 45,
   "metadata": {},
   "outputs": [
    {
     "name": "stdout",
     "output_type": "stream",
     "text": [
      "[ 1  6 11 16]\n"
     ]
    }
   ],
   "source": [
    "# 12. Extract the diagonal elements of a matrix.\n",
    "\n",
    "import numpy as np\n",
    "\n",
    "arr = np.array([1,2,3,4,5,6,7,8,9,0,11,12,13,14,15,16]).reshape(4, 4)\n",
    "print(np.diag(arr))\n"
   ]
  },
  {
   "cell_type": "code",
   "execution_count": 47,
   "metadata": {},
   "outputs": [
    {
     "name": "stdout",
     "output_type": "stream",
     "text": [
      "36\n"
     ]
    }
   ],
   "source": [
    "# 13. Find the sum of all elements in an array.\n",
    "import numpy as np \n",
    " \n",
    "arr = np.array([1,2,3,4,5,6,7,8])\n",
    "\n",
    "arr = arr.sum()\n",
    "print(arr)"
   ]
  },
  {
   "cell_type": "code",
   "execution_count": 2,
   "metadata": {},
   "outputs": [
    {
     "name": "stdout",
     "output_type": "stream",
     "text": [
      "[ 1  3  6 10 15]\n"
     ]
    }
   ],
   "source": [
    "# 14. Find the cumulative sum of elements in an array.\n",
    "\n",
    "import numpy as np\n",
    "arr = np.array([1, 2, 3, 4, 5])\n",
    "\n",
    "cumulative_sum = np.cumsum(arr)\n",
    "print(cumulative_sum)\n"
   ]
  },
  {
   "cell_type": "code",
   "execution_count": 5,
   "metadata": {},
   "outputs": [
    {
     "data": {
      "text/plain": [
       "array([ 2.,  4.,  6.,  8., 10.])"
      ]
     },
     "execution_count": 5,
     "metadata": {},
     "output_type": "execute_result"
    }
   ],
   "source": [
    "# 15. Create a NumPy array with linearly spaced values between 0 and 1.\n",
    "\n",
    "import numpy as np\n",
    "np.linspace(2,10,5)"
   ]
  },
  {
   "cell_type": "code",
   "execution_count": 14,
   "metadata": {},
   "outputs": [
    {
     "name": "stdout",
     "output_type": "stream",
     "text": [
      "[88 52 70 90 75 83 66 64 53 94 92 71 78 98 97 65 86 81 64 97]\n"
     ]
    }
   ],
   "source": [
    "# 16. Create an array of 20 random integers between 50 and 100.\n",
    "import numpy as np\n",
    "\n",
    "arr = np.random.randint(50, 100, 20)\n",
    "print(arr)"
   ]
  },
  {
   "cell_type": "code",
   "execution_count": 15,
   "metadata": {},
   "outputs": [
    {
     "name": "stdout",
     "output_type": "stream",
     "text": [
      "[[1 2 3 4]\n",
      " [5 6 7 8]]\n"
     ]
    }
   ],
   "source": [
    "# 17. Stack two NumPy arrays vertically.\n",
    "\n",
    "import numpy as np \n",
    "\n",
    "arr1 = np.array([1,2,3,4])\n",
    "arr2 = np.array([5,6,7,8])\n",
    "print(np.vstack((arr1,arr2)))"
   ]
  },
  {
   "cell_type": "code",
   "execution_count": 16,
   "metadata": {},
   "outputs": [
    {
     "name": "stdout",
     "output_type": "stream",
     "text": [
      "[1 2 3 4 5 6 7 8]\n"
     ]
    }
   ],
   "source": [
    "# 18. Stack two NumPy arrays horizontally.\n",
    "import numpy as np \n",
    "\n",
    "arr1 = np.array([1,2,3,4])\n",
    "arr2 = np.array([5,6,7,8])\n",
    "print(np.hstack((arr1,arr2)))"
   ]
  },
  {
   "cell_type": "code",
   "execution_count": 22,
   "metadata": {},
   "outputs": [
    {
     "name": "stdout",
     "output_type": "stream",
     "text": [
      "[1 2 3]\n"
     ]
    }
   ],
   "source": [
    "# 19. Find the unique elements in an array.\n",
    "import numpy as np \n",
    "\n",
    "arr1 = np.array([1,1,3,1])\n",
    "arr2 = np.array([2,2,3,1])\n",
    "print(np.unique((arr1,arr2)))"
   ]
  },
  {
   "cell_type": "code",
   "execution_count": 28,
   "metadata": {},
   "outputs": [
    {
     "name": "stdout",
     "output_type": "stream",
     "text": [
      "[-1  2 -1  4 -1]\n"
     ]
    }
   ],
   "source": [
    "# 20. Replace all odd numbers in an array with -1.\n",
    "import numpy as np\n",
    "arr = np.array([1, 2, 3, 4, 5])\n",
    "\n",
    "arr[arr % 2 != 0] = -1\n",
    "print(arr)"
   ]
  },
  {
   "cell_type": "code",
   "execution_count": 2,
   "metadata": {},
   "outputs": [
    {
     "name": "stdout",
     "output_type": "stream",
     "text": [
      "[1 2 3 4 5]\n"
     ]
    }
   ],
   "source": [
    "# 21. Convert a list to a NumPy array.\n",
    "import numpy as np \n",
    "list = [1,2,3,4,5]\n",
    "\n",
    "array = np.array(list)\n",
    "print(array)"
   ]
  },
  {
   "cell_type": "code",
   "execution_count": 3,
   "metadata": {},
   "outputs": [
    {
     "name": "stdout",
     "output_type": "stream",
     "text": [
      "[1 2 3 4 5]\n"
     ]
    }
   ],
   "source": [
    "# 22. Convert a NumPy array to a Python list.\n",
    "\n",
    "import numpy as np\n",
    "\n",
    "array = np.array([1,2,3,4,5])\n",
    "list = np.array(array)\n",
    "print(list)"
   ]
  },
  {
   "cell_type": "code",
   "execution_count": 12,
   "metadata": {},
   "outputs": [
    {
     "name": "stdout",
     "output_type": "stream",
     "text": [
      "[[1 2]\n",
      " [3 4]]\n"
     ]
    }
   ],
   "source": [
    "# 23. Find the shape and size of an array.\n",
    "\n",
    "import numpy as np\n"
   ]
  },
  {
   "cell_type": "code",
   "execution_count": 16,
   "metadata": {},
   "outputs": [
    {
     "ename": "ValueError",
     "evalue": "setting an array element with a sequence. The requested array has an inhomogeneous shape after 1 dimensions. The detected shape was (3,) + inhomogeneous part.",
     "output_type": "error",
     "traceback": [
      "\u001b[1;31m---------------------------------------------------------------------------\u001b[0m",
      "\u001b[1;31mValueError\u001b[0m                                Traceback (most recent call last)",
      "Cell \u001b[1;32mIn[16], line 5\u001b[0m\n\u001b[0;32m      1\u001b[0m \u001b[38;5;66;03m# 24. Flatten a multi-dimensional array.\u001b[39;00m\n\u001b[0;32m      3\u001b[0m \u001b[38;5;28;01mimport\u001b[39;00m\u001b[38;5;250m \u001b[39m\u001b[38;5;21;01mnumpy\u001b[39;00m\u001b[38;5;250m \u001b[39m\u001b[38;5;28;01mas\u001b[39;00m\u001b[38;5;250m \u001b[39m\u001b[38;5;21;01mnp\u001b[39;00m\n\u001b[1;32m----> 5\u001b[0m nested_array \u001b[38;5;241m=\u001b[39m \u001b[43mnp\u001b[49m\u001b[38;5;241;43m.\u001b[39;49m\u001b[43marray\u001b[49m\u001b[43m(\u001b[49m\u001b[43m[\u001b[49m\u001b[43m[\u001b[49m\u001b[38;5;241;43m1\u001b[39;49m\u001b[43m,\u001b[49m\u001b[43m \u001b[49m\u001b[38;5;241;43m2\u001b[39;49m\u001b[43m,\u001b[49m\u001b[43m \u001b[49m\u001b[38;5;241;43m3\u001b[39;49m\u001b[43m]\u001b[49m\u001b[43m,\u001b[49m\u001b[43m \u001b[49m\u001b[43m[\u001b[49m\u001b[38;5;241;43m4\u001b[39;49m\u001b[43m,\u001b[49m\u001b[43m \u001b[49m\u001b[38;5;241;43m5\u001b[39;49m\u001b[43m]\u001b[49m\u001b[43m,\u001b[49m\u001b[43m \u001b[49m\u001b[43m[\u001b[49m\u001b[38;5;241;43m6\u001b[39;49m\u001b[43m]\u001b[49m\u001b[43m]\u001b[49m\u001b[43m)\u001b[49m\n\u001b[0;32m      6\u001b[0m flattened \u001b[38;5;241m=\u001b[39m nested_array\u001b[38;5;241m.\u001b[39mflatten()\n\u001b[0;32m      7\u001b[0m \u001b[38;5;28mprint\u001b[39m(flattened)  \u001b[38;5;66;03m# Output: [1 2 3 4 5 6]\u001b[39;00m\n",
      "\u001b[1;31mValueError\u001b[0m: setting an array element with a sequence. The requested array has an inhomogeneous shape after 1 dimensions. The detected shape was (3,) + inhomogeneous part."
     ]
    }
   ],
   "source": [
    "# 24. Flatten a multi-dimensional array.\n",
    "\n",
    "# import numpy as np\n",
    "\n",
    "# nested_array = np.array([[1, 2, 3], [4, 5], [6]])\n",
    "# flattened = nested_array.flatten()\n",
    "# print(flattened)\n"
   ]
  },
  {
   "cell_type": "code",
   "execution_count": 33,
   "metadata": {},
   "outputs": [
    {
     "name": "stdout",
     "output_type": "stream",
     "text": [
      "3\n"
     ]
    }
   ],
   "source": [
    "# 25. Find the index of the maximum value in an array.\n",
    "\n",
    "import numpy as np\n",
    "arr = np.array([10, 20, 5, 30, 25])\n",
    "index = np.argmax(arr)\n",
    "print(index)\n"
   ]
  },
  {
   "cell_type": "code",
   "execution_count": 37,
   "metadata": {},
   "outputs": [
    {
     "name": "stdout",
     "output_type": "stream",
     "text": [
      "1\n"
     ]
    }
   ],
   "source": [
    "# 26. Find the index of the minimum value in an array.\n",
    "\n",
    "import numpy as np\n",
    "\n",
    "arr = np.array([10,2,40,40])\n",
    "min = np.argmin(arr)\n",
    "print(min)"
   ]
  },
  {
   "cell_type": "code",
   "execution_count": 39,
   "metadata": {},
   "outputs": [
    {
     "name": "stdout",
     "output_type": "stream",
     "text": [
      "[1 2 3 4 5]\n"
     ]
    }
   ],
   "source": [
    "# 27. Sort a NumPy array in ascending order.\n",
    "\n",
    "import numpy as np\n",
    "\n",
    "arr = np.array([2,1,5,4,3])\n",
    "arr1 = np.sort(arr)\n",
    "print(arr1)"
   ]
  },
  {
   "cell_type": "code",
   "execution_count": 41,
   "metadata": {},
   "outputs": [
    {
     "name": "stdout",
     "output_type": "stream",
     "text": [
      "[5 4 3 2 1]\n"
     ]
    }
   ],
   "source": [
    "# 28. Sort a NumPy array in descending order.\n",
    "\n",
    "import numpy as np\n",
    "arr = np.array([1,2,3,4,5])\n",
    "\n",
    "arr1 = arr[::-1]\n",
    "print(arr1)"
   ]
  },
  {
   "cell_type": "code",
   "execution_count": 67,
   "metadata": {},
   "outputs": [
    {
     "name": "stdout",
     "output_type": "stream",
     "text": [
      "normal\n",
      " [[ 0  1  2  3  4]\n",
      " [ 5  6  7  8  9]\n",
      " [10 11 12 13 14]\n",
      " [15 16 17 18 19]\n",
      " [20 21 22 23 24]]\n",
      "Transpose\n",
      " [[ 0  5 10 15 20]\n",
      " [ 1  6 11 16 21]\n",
      " [ 2  7 12 17 22]\n",
      " [ 3  8 13 18 23]\n",
      " [ 4  9 14 19 24]]\n"
     ]
    }
   ],
   "source": [
    "# 29. Generate a 5x5 array of random integers and find its transpose.\n",
    "\n",
    "import numpy as np\n",
    "\n",
    "arr = np.arange(0,25).reshape(5,5)\n",
    "\n",
    "arr1= np.transpose(arr)\n",
    "print(\"normal\\n\",arr)\n",
    "print(\"Transpose\\n\",arr1)"
   ]
  },
  {
   "cell_type": "code",
   "execution_count": 69,
   "metadata": {},
   "outputs": [
    {
     "name": "stdout",
     "output_type": "stream",
     "text": [
      "[ 5 10  9 10  1 10]\n"
     ]
    }
   ],
   "source": [
    "# 30. Create an array and replace all values greater than 10 with 10.\n",
    "\n",
    "import numpy as np\n",
    "\n",
    "arr = np.array([5,16,9,23,1,11])\n",
    "\n",
    "# for i in arr:\n",
    "#     if i > 10:\n",
    "#         arr[arr == i] = 10\n",
    "#     else:\n",
    "#         pass\n",
    "\n",
    "arr[arr > 10] = 10\n",
    "print(arr)"
   ]
  },
  {
   "cell_type": "code",
   "execution_count": 73,
   "metadata": {},
   "outputs": [
    {
     "name": "stdout",
     "output_type": "stream",
     "text": [
      "[False  True False  True False  True]\n"
     ]
    }
   ],
   "source": [
    "# 31. Create a boolean mask for values greater than a specific number.\n",
    "\n",
    "import numpy as np\n",
    "\n",
    "arr = np.array([5,16,9,23,1,11])\n",
    "\n",
    "arr1 = arr > 10\n",
    "print(arr1)"
   ]
  },
  {
   "cell_type": "code",
   "execution_count": 1,
   "metadata": {},
   "outputs": [
    {
     "name": "stdout",
     "output_type": "stream",
     "text": [
      "80\n"
     ]
    }
   ],
   "source": [
    "# 32. Find the dot product of two matrices.\n",
    "import numpy as np \n",
    "\n",
    "arr = np.array([1,2,3,4,5])\n",
    "arr1 = np.array([6,7,8,9,0])\n",
    "\n",
    "arr2 = np.dot(arr,arr1)\n",
    "print(arr2)"
   ]
  },
  {
   "cell_type": "code",
   "execution_count": 15,
   "metadata": {},
   "outputs": [
    {
     "name": "stdout",
     "output_type": "stream",
     "text": [
      "[[ 0.05555556 -0.27777778  0.38888889]\n",
      " [-0.27777778  0.38888889  0.05555556]\n",
      " [ 0.38888889  0.05555556 -0.27777778]]\n"
     ]
    }
   ],
   "source": [
    "# 33. Find the inverse of a 3x3 matrix.\n",
    "import numpy as np\n",
    "\n",
    "arr1 = np.array([[2, 1, 3], \n",
    "              [1, 3, 2], \n",
    "              [3, 2, 1]])\n",
    "\n",
    "arr2 = np.linalg.inv(arr1)\n",
    "print(arr2)"
   ]
  },
  {
   "cell_type": "code",
   "execution_count": 20,
   "metadata": {},
   "outputs": [
    {
     "name": "stdout",
     "output_type": "stream",
     "text": [
      "0.0\n"
     ]
    }
   ],
   "source": [
    "# 34. Find the determinant of a 3x3 matrix.\n",
    "import numpy as np \n",
    "\n",
    "arr1 = np.array([[1,2,3],\n",
    "                [4,5,6],\n",
    "                [7,8,9]])\n",
    "\n",
    "arr2 = np.linalg.det(arr1)\n",
    "print(arr2)"
   ]
  },
  {
   "cell_type": "code",
   "execution_count": 23,
   "metadata": {},
   "outputs": [
    {
     "name": "stdout",
     "output_type": "stream",
     "text": [
      "[-3.  4.]\n"
     ]
    }
   ],
   "source": [
    "# 35. Solve a system of linear equations using NumPy.\n",
    "\n",
    "import numpy as np\n",
    "\n",
    "arr1 = np.array([[1,2],\n",
    "                [4,5]])\n",
    "\n",
    "arr2 = np.array([5,8])\n",
    "\n",
    "arr3 = np.linalg.solve(arr1,arr2)\n",
    "print(arr3)"
   ]
  },
  {
   "cell_type": "code",
   "execution_count": 24,
   "metadata": {},
   "outputs": [
    {
     "name": "stdout",
     "output_type": "stream",
     "text": [
      "9\n"
     ]
    }
   ],
   "source": [
    "# 36. Create a 3D array and access specific elements.\n",
    "\n",
    "import numpy as np\n",
    "\n",
    "arr1 = np.array([[1,2,3],\n",
    "                 [4,5,6],\n",
    "                 [7,8,9]])\n",
    "\n",
    "print(arr1[2,2])"
   ]
  },
  {
   "cell_type": "code",
   "execution_count": 28,
   "metadata": {},
   "outputs": [
    {
     "name": "stdout",
     "output_type": "stream",
     "text": [
      "[1. 2. 3. 4. 5.]\n"
     ]
    }
   ],
   "source": [
    "# 37. Convert an array of integers into float type.\n",
    "\n",
    "import numpy as np\n",
    "\n",
    "arr1 = np.array([1,2,3,4,5], dtype = float)\n",
    "\n",
    "print(arr1)"
   ]
  },
  {
   "cell_type": "code",
   "execution_count": 30,
   "metadata": {},
   "outputs": [
    {
     "name": "stdout",
     "output_type": "stream",
     "text": [
      "[1 2 3 4]\n"
     ]
    }
   ],
   "source": [
    "# 38. Convert an array of float numbers into integer type.\n",
    "\n",
    "import numpy as np\n",
    "\n",
    "arr = np.array([1.0,2.3,3.3,4.0], dtype = int)\n",
    "print(arr)"
   ]
  },
  {
   "cell_type": "code",
   "execution_count": 31,
   "metadata": {},
   "outputs": [
    {
     "name": "stdout",
     "output_type": "stream",
     "text": [
      "[ 1  4  9 16 25]\n"
     ]
    }
   ],
   "source": [
    "# 39. Find the element-wise multiplication of two arrays.\n",
    "\n",
    "import numpy as np \n",
    "\n",
    "arr1 = np.array([1,2,3,4,5])\n",
    "arr2 = np.array([1,2,3,4,5])\n",
    "\n",
    "arr3 = arr1 * arr2\n",
    "print(arr3)"
   ]
  },
  {
   "cell_type": "code",
   "execution_count": 36,
   "metadata": {},
   "outputs": [
    {
     "name": "stdout",
     "output_type": "stream",
     "text": [
      "[1. 1. 1. 1. 1.]\n"
     ]
    }
   ],
   "source": [
    "# 40. Find the element-wise division of two arrays.\n",
    "import numpy as np \n",
    "\n",
    "arr1 = np.array([1,2,3,4,5])\n",
    "arr2 = np.array([1,2,3,4,5])\n",
    "\n",
    "arr3 = arr1 / arr2\n",
    "print(arr3)"
   ]
  },
  {
   "cell_type": "code",
   "execution_count": 37,
   "metadata": {},
   "outputs": [
    {
     "name": "stdout",
     "output_type": "stream",
     "text": [
      "[1.         1.41421356 1.73205081 2.         2.23606798]\n"
     ]
    }
   ],
   "source": [
    "# 41. Find the square root of each element in an array.\n",
    "\n",
    "import numpy as np \n",
    "\n",
    "arr1 = np.array([1,2,3,4,5])\n",
    "\n",
    "arr2 = np.sqrt(arr1)\n",
    "print(arr2)"
   ]
  },
  {
   "cell_type": "code",
   "execution_count": 41,
   "metadata": {},
   "outputs": [
    {
     "name": "stdout",
     "output_type": "stream",
     "text": [
      "[  2.71828183   7.3890561   20.08553692  54.59815003 148.4131591 ]\n"
     ]
    }
   ],
   "source": [
    "# 42. Find the exponential (e^x) of each element in an array.\n",
    "\n",
    "import numpy as np \n",
    "\n",
    "arr1 = np.array([1,2,3,4,5])\n",
    "arr3 = np.exp(arr1)\n",
    "print(arr3)"
   ]
  },
  {
   "cell_type": "code",
   "execution_count": 46,
   "metadata": {},
   "outputs": [
    {
     "name": "stdout",
     "output_type": "stream",
     "text": [
      "[0.01745241 0.0348995  0.05233596 0.06975647 0.08715574]\n",
      "[0.9998477  0.99939083 0.99862953 0.99756405 0.9961947 ]\n",
      "[0.01745506 0.03492077 0.05240778 0.06992681 0.08748866]\n"
     ]
    }
   ],
   "source": [
    "# 43. Compute the sine, cosine, and tangent of an array of angles.\n",
    "\n",
    "import numpy as np\n",
    "\n",
    "arr1 = np.array([1,2,3,4,5])\n",
    "\n",
    "arr2 = np.radians(arr1)\n",
    "sine = np.sin(arr2)\n",
    "cosine = np.cos(arr2)\n",
    "tangent = np.tan(arr2)\n",
    "\n",
    "print(sine)\n",
    "print(cosine)\n",
    "print(tangent)"
   ]
  },
  {
   "cell_type": "code",
   "execution_count": 49,
   "metadata": {},
   "outputs": [
    {
     "name": "stdout",
     "output_type": "stream",
     "text": [
      "[2.07944154 1.60943791 1.09861229 2.07944154 0.69314718]\n",
      "[0.90308999 0.69897    0.47712125 0.90308999 0.30103   ]\n"
     ]
    }
   ],
   "source": [
    "# 44. Compute the logarithm (base 10 and natural log) of an array.\n",
    "\n",
    "arr1 = np.array([8,5,3,8,2])\n",
    "\n",
    "log = np.log(arr1)\n",
    "\n",
    "log10 = np.log10(arr1)\n",
    "\n",
    "print(log)\n",
    "print(log10)"
   ]
  },
  {
   "cell_type": "code",
   "execution_count": 52,
   "metadata": {},
   "outputs": [
    {
     "name": "stdout",
     "output_type": "stream",
     "text": [
      "[3 5 1 4 2]\n"
     ]
    }
   ],
   "source": [
    "# 45. Generate a random permutation of an array\n",
    "\n",
    "import numpy as np\n",
    "\n",
    "arr1 = np.array([1,2,3,4,5])\n",
    "arr2 = np.random.permutation(arr1)\n",
    "print(arr2)"
   ]
  },
  {
   "cell_type": "code",
   "execution_count": 62,
   "metadata": {},
   "outputs": [
    {
     "name": "stdout",
     "output_type": "stream",
     "text": [
      "[3 4 5 1 2]\n"
     ]
    }
   ],
   "source": [
    "# 46. Shuffle an array randomly.\n",
    "\n",
    "import numpy as np\n",
    "\n",
    "arr = np.array([1,2,3,4,5])\n",
    "\n",
    "arr2 = np.random.permutation(arr)\n",
    "print(arr2)"
   ]
  },
  {
   "cell_type": "code",
   "execution_count": 65,
   "metadata": {},
   "outputs": [
    {
     "name": "stdout",
     "output_type": "stream",
     "text": [
      "[[1. 0.]\n",
      " [0. 1.]]\n"
     ]
    }
   ],
   "source": [
    "# 47. Find the correlation coefficient between two arrays.\n",
    "\n",
    "import numpy as np \n",
    "\n",
    "arr1 = np.array([1,2,3,4,5])\n",
    "arr2 = np.array([2,4,6,8,0])\n",
    "\n",
    "arr3 = np.corrcoef(arr1,arr2)\n",
    "print(arr3)\n"
   ]
  },
  {
   "cell_type": "code",
   "execution_count": 70,
   "metadata": {},
   "outputs": [
    {
     "name": "stdout",
     "output_type": "stream",
     "text": [
      "[[2.5 1. ]\n",
      " [1.  7.3]]\n"
     ]
    }
   ],
   "source": [
    "# 48. Find the covariance matrix of two arrays.\n",
    "\n",
    "import numpy as np\n",
    "\n",
    "arr1 = np.array([1,2,3,4,5])\n",
    "arr2 = np.array([6,2,9,4,7])\n",
    "\n",
    "arr3 = np.cov(arr1,arr2)\n",
    "print(arr3)"
   ]
  },
  {
   "cell_type": "code",
   "execution_count": 72,
   "metadata": {},
   "outputs": [
    {
     "name": "stdout",
     "output_type": "stream",
     "text": [
      "[1 2 3 4 5]\n"
     ]
    }
   ],
   "source": [
    "# 49. Save a NumPy array to a file and load it back.\n",
    "\n",
    "import numpy as np \n",
    "\n",
    "arr = np.array([1,2,3,4,5])\n",
    "\n",
    "print(arr)\n",
    "\n",
    "np.save('simple_array.npy',arr)"
   ]
  },
  {
   "cell_type": "code",
   "execution_count": 73,
   "metadata": {},
   "outputs": [
    {
     "name": "stdout",
     "output_type": "stream",
     "text": [
      "[1 2 3 4 5]\n"
     ]
    }
   ],
   "source": [
    "# 49 continue...\n",
    "\n",
    "import numpy as np\n",
    "\n",
    "load_arr = np.load('simple_array.npy')\n",
    "\n",
    "print(load_arr)"
   ]
  },
  {
   "cell_type": "code",
   "execution_count": 77,
   "metadata": {},
   "outputs": [
    {
     "name": "stdout",
     "output_type": "stream",
     "text": [
      "         0\n",
      "0  USER_ID\n"
     ]
    }
   ],
   "source": [
    "# 50. Read a CSV file using NumPy and extract a specific column.\n",
    "\n",
    "import pandas as pd\n",
    "\n",
    "load = r\"D:\\Data Science\\Reading Material\\pandas\\Movieratingdata.csv\"\n",
    "\n",
    "df = pd.DataFrame({\"USER_ID\"})\n",
    "print(df)"
   ]
  },
  {
   "cell_type": "code",
   "execution_count": null,
   "metadata": {},
   "outputs": [],
   "source": []
  }
 ],
 "metadata": {
  "kernelspec": {
   "display_name": "Python 3",
   "language": "python",
   "name": "python3"
  },
  "language_info": {
   "codemirror_mode": {
    "name": "ipython",
    "version": 3
   },
   "file_extension": ".py",
   "mimetype": "text/x-python",
   "name": "python",
   "nbconvert_exporter": "python",
   "pygments_lexer": "ipython3",
   "version": "3.12.3"
  }
 },
 "nbformat": 4,
 "nbformat_minor": 2
}

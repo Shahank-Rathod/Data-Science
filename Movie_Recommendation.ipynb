{
 "cells": [
  {
   "cell_type": "code",
   "execution_count": 3,
   "metadata": {},
   "outputs": [
    {
     "name": "stdout",
     "output_type": "stream",
     "text": [
      "Welcom to movie recommendation system\n",
      "Plese Select you goner from the list\n",
      "1.Action\n",
      "2.Comedy\n",
      "3.Drama\n",
      "\n",
      "Rcommended Action movie :\n",
      "Marko\n",
      "kgf 2\n",
      "Kill\n",
      "Puspa\n"
     ]
    }
   ],
   "source": [
    "# List of movies by genre\n",
    "action_movie = [\"Marko\",\"kgf 2\",\"Kill\",\"Puspa\"]\n",
    "comedy_movie = [\"Golmal\",\"Dhol\",\"Hera feri\",\"Hangama\"]\n",
    "drama_movie = [\"Lucky Baskhar\",\"Singham Again\",\"Laila Majnu\",\"Animal\"]\n",
    "\n",
    "# Display available genres\n",
    "print(\"Welcom to movie recommendation system\")\n",
    "print(\"Plese Select you goner from the list\")\n",
    "print(\"1.Action\\n2.Comedy\\n3.Drama\")\n",
    "\n",
    "# Get user input\n",
    "choice = input(\"Enter the corresponding to your choice\")\n",
    "\n",
    "# Recommend movies based on user choice\n",
    "if choice == \"1\":\n",
    "    print(\"\\nRcommended Action movie :\")\n",
    "    for movie in action_movie:\n",
    "        print(f\"{movie}\")\n",
    "elif choice == \"2\":\n",
    "    print(\"\\nRcommended Comedy_movie movie :\")\n",
    "    for movie in comedy_movie:\n",
    "        print(f\"{movie}\")\n",
    "elif choice == \"3\":\n",
    "    print(\"\\nRcommended Action movie :\")\n",
    "    for movie in drama_movie:\n",
    "        print(f\"{movie}\")\n",
    "else:\n",
    "    print(\"number invalid plese select right number.\")"
   ]
  },
  {
   "cell_type": "code",
   "execution_count": null,
   "metadata": {},
   "outputs": [],
   "source": []
  }
 ],
 "metadata": {
  "kernelspec": {
   "display_name": "Python 3",
   "language": "python",
   "name": "python3"
  },
  "language_info": {
   "codemirror_mode": {
    "name": "ipython",
    "version": 3
   },
   "file_extension": ".py",
   "mimetype": "text/x-python",
   "name": "python",
   "nbconvert_exporter": "python",
   "pygments_lexer": "ipython3",
   "version": "3.13.1"
  }
 },
 "nbformat": 4,
 "nbformat_minor": 2
}

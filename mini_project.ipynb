{
 "cells": [
  {
   "cell_type": "markdown",
   "metadata": {},
   "source": [
    "Calculator"
   ]
  },
  {
   "cell_type": "code",
   "execution_count": null,
   "metadata": {},
   "outputs": [],
   "source": [
    "def caclculator():\n",
    "    print(\"Welcome to calculator\")\n",
    "\n",
    "while True:\n",
    "    print(\"Select opratioon\")\n",
    "    print(\"1.Addition\")\n",
    "    print(\"2.Subtraction\")\n",
    "    print(\"3.Multiplication\")\n",
    "    print(\"4.Division\")\n",
    "    print(\"5.Exit\")\n",
    "\n",
    "    choice = input(\"Enter choice(1/2/3/4/5):\")\n",
    "\n",
    "    if choice == \"5\":\n",
    "        print(\"Exit\\n\")\n",
    "        break\n",
    "\n",
    "    if choice in [\"1\",\"2\",\"3\",\"4\"]:\n",
    "        num1 = float(input(\"Enter first number:\"))\n",
    "        num2 = float(input(\"Enter second number:\"))\n",
    "\n",
    "        if choice == \"1\" :\n",
    "            print(f\"Result : {num1 + num2}\\n\")\n",
    "        elif choice == \"2\" :\n",
    "            print(f\"Result : {num1 - num2}\\n\")\n",
    "        elif choice == \"3\":\n",
    "            print(f\"Result : {num1 * num2}\\n\")\n",
    "        elif choice == \"4\":\n",
    "            print(f\"Result : {num1 / num2}\\n\")\n",
    "            if num2 != 0:\n",
    "                print(f\"Result : {num1/num2}\\n\")\n",
    "            else:\n",
    "                print(\"Error! Division by zero is not allowed\\n\")\n",
    "        else:\n",
    "            print(\"Invalid input\\n\")\n",
    "caclculator()"
   ]
  },
  {
   "cell_type": "markdown",
   "metadata": {},
   "source": [
    "Grade System "
   ]
  },
  {
   "cell_type": "code",
   "execution_count": 3,
   "metadata": {},
   "outputs": [
    {
     "name": "stdout",
     "output_type": "stream",
     "text": [
      "Your grade D : Below Avrage\n"
     ]
    }
   ],
   "source": [
    "def Grade_system():\n",
    "    grades = {\n",
    "        \"A\" : \"Excellent\",\n",
    "        \"B\" : \"Good\",\n",
    "        \"C\" : \"Avrage\",\n",
    "        \"D\" : \"Below Avrage\",\n",
    "        \"F\" : \"Fail\"\n",
    "    }\n",
    "\n",
    "    score = int(input(\"Enter Your score(0-100):\"))\n",
    "\n",
    "    if 90 <= score <= 100:\n",
    "        print(f\"Your grade A : {grades [\"A\"]}\")\n",
    "    elif 80 <= score < 90:\n",
    "        print(f\"Your grade B : {grades [\"B\"]}\")\n",
    "    elif 70 <= score < 80:\n",
    "        print(f\"Your grade C : {grades [\"C\"]}\")\n",
    "    elif 60 <= score < 70:\n",
    "        print(f\"Your grade D : {grades [\"D\"]}\")\n",
    "    elif 0 <= score < 60:\n",
    "        print(f\"Your garde F : {grades [\"F\"]}\")\n",
    "    else:\n",
    "        print(\"Invalid score\")\n",
    "\n",
    "Grade_system()"
   ]
  },
  {
   "cell_type": "markdown",
   "metadata": {},
   "source": [
    "Contact Book"
   ]
  },
  {
   "cell_type": "code",
   "execution_count": 7,
   "metadata": {},
   "outputs": [
    {
     "name": "stdout",
     "output_type": "stream",
     "text": [
      "\n",
      "contact book menu\n",
      "Add contect\n",
      "2.View contect\n",
      "3.Search contect\n",
      "4.Exit\n",
      "Invalid number\n",
      "contect add successfully\n",
      "\n",
      "\n",
      "contact book menu\n",
      "Add contect\n",
      "2.View contect\n",
      "3.Search contect\n",
      "4.Exit\n",
      "\n",
      "contact book\n",
      "sk:1111\n",
      "\n",
      "\n",
      "contact book menu\n",
      "Add contect\n",
      "2.View contect\n",
      "3.Search contect\n",
      "4.Exit\n",
      "Exit contact book\n",
      "\n"
     ]
    }
   ],
   "source": [
    "def Contact_Book():\n",
    "    contact_book = {}\n",
    "    while True:\n",
    "        print(\"\\ncontact book menu\")\n",
    "        print(\"Add contect\")\n",
    "        print(\"2.View contect\")\n",
    "        print(\"3.Search contect\")\n",
    "        print(\"4.Exit\")\n",
    "\n",
    "        choice = input(\"Enter choice (1/2/3/4): \")\n",
    "\n",
    "        if choice == \"1\":\n",
    "            name = input(\"1.Enter your name : \")\n",
    "            number =(input(\"Enter your contect number : \"))\n",
    "            contact_book[name] = number\n",
    "            print(\"contect add successfully\\n\")\n",
    "\n",
    "        elif choice == \"2\":\n",
    "            print(\"\\ncontact book\")\n",
    "            for name,number in contact_book.items():\n",
    "                print(f\"{name}:{number}\\n\")\n",
    "        elif choice == \"3\":\n",
    "            serche = input(\"Enter name to serche : \")\n",
    "            if  serche in contact_book:\n",
    "                print(f\"{serche}:{contact_book[serche]}\\n\")\n",
    "            else:\n",
    "                print(\"contact not fond\\n\")\n",
    "        elif choice == \"4\":\n",
    "            print(\"Exit contact book\\n\")\n",
    "            break\n",
    "        else:\n",
    "            print(\"Invalid choice\\n\")\n",
    "\n",
    "Contact_Book()\n"
   ]
  },
  {
   "cell_type": "code",
   "execution_count": null,
   "metadata": {},
   "outputs": [],
   "source": []
  }
 ],
 "metadata": {
  "kernelspec": {
   "display_name": "Python 3",
   "language": "python",
   "name": "python3"
  },
  "language_info": {
   "codemirror_mode": {
    "name": "ipython",
    "version": 3
   },
   "file_extension": ".py",
   "mimetype": "text/x-python",
   "name": "python",
   "nbconvert_exporter": "python",
   "pygments_lexer": "ipython3",
   "version": "3.12.3"
  }
 },
 "nbformat": 4,
 "nbformat_minor": 2
}

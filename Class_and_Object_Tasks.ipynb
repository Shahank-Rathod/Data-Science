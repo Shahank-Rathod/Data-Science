{
 "cells": [
  {
   "cell_type": "code",
   "execution_count": 26,
   "metadata": {},
   "outputs": [
    {
     "name": "stdout",
     "output_type": "stream",
     "text": [
      "Area: 1256.00\n",
      "Circumference: 125.60\n"
     ]
    }
   ],
   "source": [
    "# 1.\tCreate a class to represent a Circle with methods to calculate area and circumference.\n",
    "\n",
    "class circle():\n",
    "    def __init__(self, radius):\n",
    "        self.radius = radius\n",
    "    def area(self):\n",
    "        return 3.14 * (self.radius ** 2)\n",
    "    def circumference(self):\n",
    "        return 2 * 3.14 * self.radius\n",
    "    \n",
    "x = circle(20)\n",
    "print(f\"Area: {x.area():.2f}\")\n",
    "print(f\"Circumference: {x.circumference():.2f}\")\n"
   ]
  },
  {
   "cell_type": "code",
   "execution_count": 27,
   "metadata": {},
   "outputs": [
    {
     "name": "stdout",
     "output_type": "stream",
     "text": [
      "Student Name: Shashank\n",
      "Age: 22\n",
      "Grade: 10th Grade\n"
     ]
    }
   ],
   "source": [
    "# 2.\tWrite a class to represent a Student with attributes like name, age, and grade, and a method to display the student details.\n",
    "\n",
    "class Student:\n",
    "    def __init__(self, name, age, grade):\n",
    "        self.name = name\n",
    "        self.age = age\n",
    "        self.grade = grade\n",
    "\n",
    "    def display(self):\n",
    "        print(f\"Student Name: {self.name}\")\n",
    "        print(f\"Age: {self.age}\")\n",
    "        print(f\"Grade: {self.grade}\")\n",
    "\n",
    "student1 = Student(\"Shashank\", 22, \"10th Grade\")\n",
    "student1.display()"
   ]
  },
  {
   "cell_type": "code",
   "execution_count": 28,
   "metadata": {},
   "outputs": [
    {
     "name": "stdout",
     "output_type": "stream",
     "text": [
      "\n",
      "1. Deposit\n",
      "2. Withdraw\n",
      "3. Check Balance\n",
      "4. Exit\n"
     ]
    },
    {
     "ename": "KeyboardInterrupt",
     "evalue": "Interrupted by user",
     "output_type": "error",
     "traceback": [
      "\u001b[1;31m---------------------------------------------------------------------------\u001b[0m",
      "\u001b[1;31mKeyboardInterrupt\u001b[0m                         Traceback (most recent call last)",
      "Cell \u001b[1;32mIn[28], line 52\u001b[0m\n\u001b[0;32m     49\u001b[0m \u001b[38;5;28mprint\u001b[39m(\u001b[38;5;124m\"\u001b[39m\u001b[38;5;124m3. Check Balance\u001b[39m\u001b[38;5;124m\"\u001b[39m)\n\u001b[0;32m     50\u001b[0m \u001b[38;5;28mprint\u001b[39m(\u001b[38;5;124m\"\u001b[39m\u001b[38;5;124m4. Exit\u001b[39m\u001b[38;5;124m\"\u001b[39m)\n\u001b[1;32m---> 52\u001b[0m choice \u001b[38;5;241m=\u001b[39m \u001b[38;5;28;43minput\u001b[39;49m\u001b[43m(\u001b[49m\u001b[38;5;124;43m\"\u001b[39;49m\u001b[38;5;124;43mEnter your choice (1-4): \u001b[39;49m\u001b[38;5;124;43m\"\u001b[39;49m\u001b[43m)\u001b[49m\n\u001b[0;32m     54\u001b[0m \u001b[38;5;28;01mif\u001b[39;00m choice \u001b[38;5;241m==\u001b[39m \u001b[38;5;124m'\u001b[39m\u001b[38;5;124m1\u001b[39m\u001b[38;5;124m'\u001b[39m:\n\u001b[0;32m     55\u001b[0m     amount \u001b[38;5;241m=\u001b[39m \u001b[38;5;28mfloat\u001b[39m(\u001b[38;5;28minput\u001b[39m(\u001b[38;5;124m\"\u001b[39m\u001b[38;5;124mEnter amount to deposit: \u001b[39m\u001b[38;5;124m\"\u001b[39m))\n",
      "File \u001b[1;32m~\\AppData\\Roaming\\Python\\Python312\\site-packages\\ipykernel\\kernelbase.py:1282\u001b[0m, in \u001b[0;36mKernel.raw_input\u001b[1;34m(self, prompt)\u001b[0m\n\u001b[0;32m   1280\u001b[0m     msg \u001b[38;5;241m=\u001b[39m \u001b[38;5;124m\"\u001b[39m\u001b[38;5;124mraw_input was called, but this frontend does not support input requests.\u001b[39m\u001b[38;5;124m\"\u001b[39m\n\u001b[0;32m   1281\u001b[0m     \u001b[38;5;28;01mraise\u001b[39;00m StdinNotImplementedError(msg)\n\u001b[1;32m-> 1282\u001b[0m \u001b[38;5;28;01mreturn\u001b[39;00m \u001b[38;5;28;43mself\u001b[39;49m\u001b[38;5;241;43m.\u001b[39;49m\u001b[43m_input_request\u001b[49m\u001b[43m(\u001b[49m\n\u001b[0;32m   1283\u001b[0m \u001b[43m    \u001b[49m\u001b[38;5;28;43mstr\u001b[39;49m\u001b[43m(\u001b[49m\u001b[43mprompt\u001b[49m\u001b[43m)\u001b[49m\u001b[43m,\u001b[49m\n\u001b[0;32m   1284\u001b[0m \u001b[43m    \u001b[49m\u001b[38;5;28;43mself\u001b[39;49m\u001b[38;5;241;43m.\u001b[39;49m\u001b[43m_parent_ident\u001b[49m\u001b[43m[\u001b[49m\u001b[38;5;124;43m\"\u001b[39;49m\u001b[38;5;124;43mshell\u001b[39;49m\u001b[38;5;124;43m\"\u001b[39;49m\u001b[43m]\u001b[49m\u001b[43m,\u001b[49m\n\u001b[0;32m   1285\u001b[0m \u001b[43m    \u001b[49m\u001b[38;5;28;43mself\u001b[39;49m\u001b[38;5;241;43m.\u001b[39;49m\u001b[43mget_parent\u001b[49m\u001b[43m(\u001b[49m\u001b[38;5;124;43m\"\u001b[39;49m\u001b[38;5;124;43mshell\u001b[39;49m\u001b[38;5;124;43m\"\u001b[39;49m\u001b[43m)\u001b[49m\u001b[43m,\u001b[49m\n\u001b[0;32m   1286\u001b[0m \u001b[43m    \u001b[49m\u001b[43mpassword\u001b[49m\u001b[38;5;241;43m=\u001b[39;49m\u001b[38;5;28;43;01mFalse\u001b[39;49;00m\u001b[43m,\u001b[49m\n\u001b[0;32m   1287\u001b[0m \u001b[43m\u001b[49m\u001b[43m)\u001b[49m\n",
      "File \u001b[1;32m~\\AppData\\Roaming\\Python\\Python312\\site-packages\\ipykernel\\kernelbase.py:1325\u001b[0m, in \u001b[0;36mKernel._input_request\u001b[1;34m(self, prompt, ident, parent, password)\u001b[0m\n\u001b[0;32m   1322\u001b[0m \u001b[38;5;28;01mexcept\u001b[39;00m \u001b[38;5;167;01mKeyboardInterrupt\u001b[39;00m:\n\u001b[0;32m   1323\u001b[0m     \u001b[38;5;66;03m# re-raise KeyboardInterrupt, to truncate traceback\u001b[39;00m\n\u001b[0;32m   1324\u001b[0m     msg \u001b[38;5;241m=\u001b[39m \u001b[38;5;124m\"\u001b[39m\u001b[38;5;124mInterrupted by user\u001b[39m\u001b[38;5;124m\"\u001b[39m\n\u001b[1;32m-> 1325\u001b[0m     \u001b[38;5;28;01mraise\u001b[39;00m \u001b[38;5;167;01mKeyboardInterrupt\u001b[39;00m(msg) \u001b[38;5;28;01mfrom\u001b[39;00m\u001b[38;5;250m \u001b[39m\u001b[38;5;28;01mNone\u001b[39;00m\n\u001b[0;32m   1326\u001b[0m \u001b[38;5;28;01mexcept\u001b[39;00m \u001b[38;5;167;01mException\u001b[39;00m:\n\u001b[0;32m   1327\u001b[0m     \u001b[38;5;28mself\u001b[39m\u001b[38;5;241m.\u001b[39mlog\u001b[38;5;241m.\u001b[39mwarning(\u001b[38;5;124m\"\u001b[39m\u001b[38;5;124mInvalid Message:\u001b[39m\u001b[38;5;124m\"\u001b[39m, exc_info\u001b[38;5;241m=\u001b[39m\u001b[38;5;28;01mTrue\u001b[39;00m)\n",
      "\u001b[1;31mKeyboardInterrupt\u001b[0m: Interrupted by user"
     ]
    }
   ],
   "source": [
    "# 3.Develop a class to model a BankAccount with methods to deposit, withdraw, and check the balance.\n",
    "\n",
    "\n",
    "# class BankAccount:\n",
    "#     def __init__(self, initial_balance=0):\n",
    "#         self.balance = initial_balance\n",
    "\n",
    "#     def deposit(self, amount):\n",
    "#         self.balance += amount\n",
    "\n",
    "#     def withdraw(self, amount):\n",
    "#         if amount <= self.balance:\n",
    "#             self.balance -= amount\n",
    "#         else:\n",
    "#             print(\"Not enough balance!\")\n",
    "\n",
    "#     def check_balance(self):\n",
    "#         return self.balance\n",
    "\n",
    "# Example usage:\n",
    "# account = BankAccount(100)\n",
    "# account.deposit(50)\n",
    "# account.withdraw(30)\n",
    "# print(\"Current balance:\", account.check_balance())\n",
    "\n",
    "\n",
    "class BankAccount:\n",
    "    def __init__(self):\n",
    "        self.balance = 0 \n",
    "\n",
    "    def deposit(self, amount):\n",
    "        self.balance += amount\n",
    "\n",
    "    def withdraw(self, amount):\n",
    "        if amount <= self.balance:\n",
    "            self.balance -= amount\n",
    "        else:\n",
    "            print(\"Not enough balance!\")\n",
    "\n",
    "    def check_balance(self):\n",
    "        return self.balance\n",
    "\n",
    "# Create a bank account\n",
    "account = BankAccount()\n",
    "\n",
    "while True:\n",
    "    print(\"\\n1. Deposit\")\n",
    "    print(\"2. Withdraw\")\n",
    "    print(\"3. Check Balance\")\n",
    "    print(\"4. Exit\")\n",
    "    \n",
    "    choice = input(\"Enter your choice (1-4): \")\n",
    "    \n",
    "    if choice == '1':\n",
    "        amount = float(input(\"Enter amount to deposit: \"))\n",
    "        account.deposit(amount)\n",
    "        print(f\"Deposited {amount}\")\n",
    "    elif choice == '2':\n",
    "        amount = float(input(\"Enter amount to withdraw: \"))\n",
    "        account.withdraw(amount)\n",
    "    elif choice == '3':\n",
    "        print(f\"Current balance: {account.check_balance()}\")\n",
    "    elif choice == '4':\n",
    "        print(\"Exit\")\n",
    "        break\n",
    "    else:\n",
    "        print(\"Invalid choice\")"
   ]
  },
  {
   "cell_type": "code",
   "execution_count": 26,
   "metadata": {},
   "outputs": [
    {
     "name": "stdout",
     "output_type": "stream",
     "text": [
      "Area: 60\n",
      "Perimeter: 32\n"
     ]
    }
   ],
   "source": [
    "# 4.Create a class to represent a Rectangle with attributes for length and width, and methods to calculate area and perimeter.\n",
    "\n",
    "# class rectangle:\n",
    "    \n",
    "#     def __init__(self,length,width):\n",
    "#         self.lenth = length\n",
    "#         self.width = width\n",
    "\n",
    "#     def area(self):\n",
    "#         return self.length * self.width\n",
    "    \n",
    "#     def perimeter(self):\n",
    "#         return 2 * (self.lenth + self.width)\n",
    "    \n",
    "  \n",
    "# a = rectangle(5,3)\n",
    "# print(f\"area : {a.area()}\")\n",
    "# print(f\"perimeter : {a.perimeter()}\")\n",
    "\n",
    "class Rectangle:\n",
    "    def __init__(self, length, width):\n",
    "        self.length = length\n",
    "        self.width = width\n",
    "\n",
    "        items = \"\"\n",
    "\n",
    "    def calculate_area(self):\n",
    "        return self.length * self.width\n",
    "\n",
    "    def calculate_perimeter(self):\n",
    "        return 2 * (self.length + self.width)\n",
    "    \n",
    "rect = Rectangle(10, 6)\n",
    "print(f\"Area: {rect.calculate_area()}\")\n",
    "print(f\"Perimeter: {rect.calculate_perimeter()}\")\n"
   ]
  },
  {
   "cell_type": "code",
   "execution_count": 5,
   "metadata": {},
   "outputs": [
    {
     "name": "stdout",
     "output_type": "stream",
     "text": [
      "\n",
      "1. Add item\n",
      "2. Remove items\n",
      "3. view items\n",
      "4. Exit\n",
      "Added book\n",
      "\n",
      "1. Add item\n",
      "2. Remove items\n",
      "3. view items\n",
      "4. Exit\n",
      "book\n",
      "Items: None\n",
      "\n",
      "1. Add item\n",
      "2. Remove items\n",
      "3. view items\n",
      "4. Exit\n",
      "book\n",
      "Items: None\n",
      "\n",
      "1. Add item\n",
      "2. Remove items\n",
      "3. view items\n",
      "4. Exit\n",
      "Removed book\n",
      "\n",
      "1. Add item\n",
      "2. Remove items\n",
      "3. view items\n",
      "4. Exit\n",
      "Items: None\n",
      "\n",
      "1. Add item\n",
      "2. Remove items\n",
      "3. view items\n",
      "4. Exit\n",
      "Exit\n"
     ]
    }
   ],
   "source": [
    "# 5.\tWrite a program using a class to manage an inventory system where you can add, remove, and view items.\n",
    "\n",
    "class Inventory:\n",
    "    def __init__(self):\n",
    "        self.items = []\n",
    "\n",
    "    def add_item(self, item):\n",
    "        self.items.append(item)\n",
    "\n",
    "    def remove_item(self, item):\n",
    "        self.items.remove(item)\n",
    "\n",
    "    def view_items(self):\n",
    "        for item in self.items:\n",
    "            print(item)\n",
    "\n",
    "\n",
    "system = Inventory()\n",
    "\n",
    "while True:\n",
    "    print(\"\\n1. Add item\")\n",
    "    print(\"2. Remove items\")\n",
    "    print(\"3. view items\")\n",
    "    print(\"4. Exit\")\n",
    "\n",
    "    choice = input(\"Enyter your choice (1-4):\")\n",
    "\n",
    "\n",
    "    if choice == '1':\n",
    "        item = input(\"Enter item name:\")\n",
    "        system.add_item(item)\n",
    "        print(f\"Added {item}\")\n",
    "\n",
    "    elif choice == '2':\n",
    "        item = input(\"Enter item name\")\n",
    "        system.remove_item(item)\n",
    "        print(f\"Removed {item}\")\n",
    "\n",
    "    elif choice == '3':\n",
    "        items = system.view_items()\n",
    "        print(f\"Items: {items}\")\n",
    "\n",
    "    elif choice == '4':\n",
    "        print(\"Exit\")\n",
    "        break\n",
    "\n",
    "    else:\n",
    "        print(\"Invalid choice\")\n",
    "\n",
    "x = Inventory()"
   ]
  },
  {
   "cell_type": "code",
   "execution_count": 8,
   "metadata": {},
   "outputs": [
    {
     "name": "stdout",
     "output_type": "stream",
     "text": [
      "Car(brand='Toyota', model='Camry', price=25500.0)\n",
      "Discounted price: 25500.00\n"
     ]
    }
   ],
   "source": [
    "# 6.\tDevelop a class to represent a Car with attributes like brand, model, and price, and a method to apply a discount on the price.\n",
    "\n",
    "class Car:\n",
    "    def __init__(self, brand, model, price):\n",
    "        self.brand = brand\n",
    "        self.model = model\n",
    "        self.price = price\n",
    "\n",
    "    def apply_discount(self, discount_percent: float) -> None:\n",
    "        \"\"\"Apply a percentage discount to the car's price.\"\"\"\n",
    "        if not 0 <= discount_percent <= 100:\n",
    "            raise ValueError(\"Discount percentage must be between 0 and 100\")\n",
    "        self.price *= (1 - discount_percent / 100)\n",
    "\n",
    "    def __repr__(self) -> str:\n",
    "        return f\"Car(brand='{self.brand}', model='{self.model}', price={self.price})\"\n",
    "\n",
    "\n",
    "my_car = Car(\"Toyota\", \"Camry\", 30000.0)\n",
    "\n",
    "\n",
    "my_car.apply_discount(15)\n",
    "\n",
    "print(my_car)\n",
    "print(f\"Discounted price: {my_car.price:.2f}\") "
   ]
  },
  {
   "cell_type": "code",
   "execution_count": 17,
   "metadata": {},
   "outputs": [
    {
     "name": "stdout",
     "output_type": "stream",
     "text": [
      "\n",
      "1. Add book\n",
      "2. Issue book\n",
      "3. View books\n",
      "4. Exit\n",
      "Added math\n",
      "\n",
      "1. Add book\n",
      "2. Issue book\n",
      "3. View books\n",
      "4. Exit\n",
      "Available books:\n",
      "math\n",
      "\n",
      "1. Add book\n",
      "2. Issue book\n",
      "3. View books\n",
      "4. Exit\n",
      "Issued math\n",
      "\n",
      "1. Add book\n",
      "2. Issue book\n",
      "3. View books\n",
      "4. Exit\n",
      "Available books:\n",
      "\n",
      "1. Add book\n",
      "2. Issue book\n",
      "3. View books\n",
      "4. Exit\n",
      "Exit\n"
     ]
    }
   ],
   "source": [
    "# 7.\tCreate a class to model a Library with methods to add books, issue books, and display available books.\n",
    "\n",
    "class Library:\n",
    "    def __init__(self):\n",
    "        self.books = []\n",
    "\n",
    "    def add_book(self, book):\n",
    "        self.books.append(book)\n",
    "        print(f\"Added {book}\")\n",
    "\n",
    "    def issue_book(self, book):\n",
    "        if book in self.books:\n",
    "            self.books.remove(book)\n",
    "            print(f\"Issued {book}\")\n",
    "        else:\n",
    "            print(f\"{book} not available\")\n",
    "\n",
    "    def display_books(self):\n",
    "        for book in self.books:\n",
    "            print(book)\n",
    "\n",
    "lib = Library()\n",
    "\n",
    "while True:\n",
    "    print(\"\\n1. Add book\")\n",
    "    print(\"2. Issue book\")\n",
    "    print(\"3. View books\")\n",
    "    print(\"4. Exit\")\n",
    "\n",
    "    choice = input(\"Enter your choice (1-4):\")\n",
    "\n",
    "    if choice == '1':\n",
    "        book = input(\"Enter book name:\")\n",
    "        lib.add_book(book)\n",
    "    elif choice == '2':\n",
    "        book = input(\"Enter book name:\")\n",
    "        lib.issue_book(book)\n",
    "    elif choice == '3':\n",
    "        print(\"Available books:\")\n",
    "        lib.display_books()\n",
    "    elif choice == '4':\n",
    "        print(\"Exit\")\n",
    "        break\n",
    "    else:\n",
    "        print(\"Invalid choice\")"
   ]
  },
  {
   "cell_type": "code",
   "execution_count": null,
   "metadata": {},
   "outputs": [
    {
     "name": "stdout",
     "output_type": "stream",
     "text": [
      "Addition: 2.0\n",
      "Subtraction: 0.0\n",
      "Multiplication: 1.0\n",
      "Division: 1.0\n"
     ]
    }
   ],
   "source": [
    "# 8.\tWrite a program with a class to represent a Calculator that supports basic operations like addition, subtraction, multiplication, and division.\n",
    "\n",
    "class Calculator:\n",
    "    def __init__(self, num1, num2):\n",
    "        self.num1 = num1\n",
    "        self.num2 = num2\n",
    "\n",
    "    def add(self):\n",
    "        return self.num1 + self.num2\n",
    "\n",
    "    def subtract(self):\n",
    "        return self.num1 - self.num2\n",
    "\n",
    "    def multiply(self):\n",
    "        return self.num1 * self.num2\n",
    "\n",
    "    def divide(self):\n",
    "        if self.num2 != 0:\n",
    "            return self.num1 / self.num2\n",
    "        else:\n",
    "            return \"Cannot divide by zero\"\n",
    "\n",
    "num1 = float(input(\"Enter the first number: \"))\n",
    "num2 = float(input(\"Enter the second number: \"))\n",
    "\n",
    "calc = Calculator(num1, num2)\n",
    "\n",
    "print(f\"Addition: {calc.add()}\")\n",
    "print(f\"Subtraction: {calc.subtract()}\")\n",
    "print(f\"Multiplication: {calc.multiply()}\")\n",
    "print(f\"Division: {calc.divide()}\")\n"
   ]
  },
  {
   "cell_type": "code",
   "execution_count": 25,
   "metadata": {},
   "outputs": [
    {
     "name": "stdout",
     "output_type": "stream",
     "text": [
      "Annual Salary: 600000\n"
     ]
    }
   ],
   "source": [
    "# 9.Develop a class to represent an Employee with attributes like name, designation, and salary, and a method to calculate annual salary.\n",
    "\n",
    "class Employee:\n",
    "    def __init__(self, name, designation, salary):\n",
    "        self.name = name\n",
    "        self.designation = designation\n",
    "        self.salary = salary\n",
    "\n",
    "    def calculate_annual_salary(self):\n",
    "        return self.salary * 12 \n",
    "    \n",
    "    def print_details(self):\n",
    "        print(f\"Name: {self.name}\")\n",
    "        print(f\"Designation: {self.designation}\")\n",
    "        print(f\"Salary: {self.salary}\")\n",
    "    \n",
    "emp = Employee(\"Shashank\", \"Software Developer\", 50000)\n",
    "print(f\"Annual Salary: {emp.calculate_annual_salary()}\")\n"
   ]
  },
  {
   "cell_type": "code",
   "execution_count": 30,
   "metadata": {},
   "outputs": [
    {
     "name": "stdout",
     "output_type": "stream",
     "text": [
      "Player: Shashank\n",
      "Health: 90\n",
      "Score: 50\n"
     ]
    },
    {
     "data": {
      "text/plain": [
       "<__main__.Game at 0x1fa3682fc80>"
      ]
     },
     "execution_count": 30,
     "metadata": {},
     "output_type": "execute_result"
    }
   ],
   "source": [
    "# 10.Create a class to simulate a simple Game where players have attributes like health and score, and methods to update them.\n",
    "\n",
    "class Game:\n",
    "    def __init__(self, player_name):\n",
    "        self.player_name = player_name\n",
    "        self.health = 100\n",
    "        self.score = 0\n",
    "    def update_health(self, amount):\n",
    "        self.health += amount\n",
    "    def update_score(self, points):\n",
    "        self.score += points\n",
    "    def display_details(self):\n",
    "        print(f\"Player: {self.player_name}\")\n",
    "        print(f\"Health: {self.health}\")\n",
    "        print(f\"Score: {self.score}\")\n",
    "        return self\n",
    "    \n",
    "player1 = Game(\"Shashank\")\n",
    "player1.update_health(-10)\n",
    "player1.update_score(50)\n",
    "player1.display_details()\n"
   ]
  },
  {
   "cell_type": "code",
   "execution_count": null,
   "metadata": {},
   "outputs": [],
   "source": []
  }
 ],
 "metadata": {
  "kernelspec": {
   "display_name": "Python 3",
   "language": "python",
   "name": "python3"
  },
  "language_info": {
   "codemirror_mode": {
    "name": "ipython",
    "version": 3
   },
   "file_extension": ".py",
   "mimetype": "text/x-python",
   "name": "python",
   "nbconvert_exporter": "python",
   "pygments_lexer": "ipython3",
   "version": "3.12.3"
  }
 },
 "nbformat": 4,
 "nbformat_minor": 2
}

{
 "cells": [
  {
   "cell_type": "code",
   "execution_count": 10,
   "metadata": {},
   "outputs": [
    {
     "name": "stdout",
     "output_type": "stream",
     "text": [
      "[1, 8, 27, 64, 125]\n"
     ]
    }
   ],
   "source": [
    "# 1. Create a lambda function to find the cube of a number. Use it with the `map()` function to compute the cubes of elements in the array `[2, 4, 6, 8, 10]`.\n",
    "\n",
    "def cube(x):\n",
    "    return x ** 3\n",
    "numbers = [1,2,3,4,5]\n",
    "squared = map(cube,numbers)\n",
    "\n",
    "print(list(squared))"
   ]
  },
  {
   "cell_type": "code",
   "execution_count": 33,
   "metadata": {},
   "outputs": [
    {
     "name": "stdout",
     "output_type": "stream",
     "text": [
      "[7, 9, 11]\n"
     ]
    }
   ],
   "source": [
    "# 2. Use a lambda function with the `filter()` function to extract elements greater than 5 from the array `[3, 5, 7, 9, 11]`.\n",
    "\n",
    "numbers = [3, 5, 7, 9, 11]\n",
    "f = (filter(lambda x: x > 5,numbers))\n",
    "print(list(f))\n"
   ]
  },
  {
   "cell_type": "code",
   "execution_count": 36,
   "metadata": {},
   "outputs": [
    {
     "name": "stdout",
     "output_type": "stream",
     "text": [
      "15\n"
     ]
    }
   ],
   "source": [
    "# 3. Create a lambda function to add two numbers. Use it with `reduce()` from the `functools` module to find the sum of all elements in the array `[1, 2, 3, 4, 5]`.\n",
    "\n",
    "import functools\n",
    "\n",
    "def sum(x):\n",
    "    return x.reduce()\n",
    "add = [1, 2, 3, 4, 5]\n",
    "sum = functools.reduce(lambda x, y: x + y, add)\n",
    "print(sum)"
   ]
  },
  {
   "cell_type": "code",
   "execution_count": 50,
   "metadata": {},
   "outputs": [
    {
     "name": "stdout",
     "output_type": "stream",
     "text": [
      "[(5, 0), (1, 2), (3, 4)]\n"
     ]
    }
   ],
   "source": [
    "# 4. Sort the array `[(3, 4), (1, 2), (5, 0)]` based on the second element of each tuple using a lambda function.\n",
    "\n",
    "array = [(3, 4), (1, 2), (5, 0)]\n",
    "sorted_array = sorted(array, key=lambda x: x[1])\n",
    "print(sorted_array)"
   ]
  },
  {
   "cell_type": "code",
   "execution_count": 57,
   "metadata": {},
   "outputs": [
    {
     "name": "stdout",
     "output_type": "stream",
     "text": [
      "[50, 40, 30, 20, 10]\n"
     ]
    }
   ],
   "source": [
    "# 5. Reverse an array `[10, 20, 30, 40, 50]` using the `reverse()` method and print the result.\n",
    "\n",
    "array = [10, 20, 30, 40, 50]\n",
    "array_r = (reversed(array))\n",
    "print(list(array_r))"
   ]
  },
  {
   "cell_type": "code",
   "execution_count": 63,
   "metadata": {},
   "outputs": [
    {
     "name": "stdout",
     "output_type": "stream",
     "text": [
      "[2.0, 4.0, 6.0, 8.0, 10.0]\n"
     ]
    }
   ],
   "source": [
    "# 6. Use a lambda function within `map()` to calculate the square root of elements in the array `[4, 16, 36, 64, 100]`.\n",
    "\n",
    "\n",
    "array = [4, 16, 36, 64, 100]\n",
    "\n",
    "squere = list(map(lambda x : x ** 0.5,array))\n",
    "print(squere)"
   ]
  },
  {
   "cell_type": "code",
   "execution_count": 2,
   "metadata": {},
   "outputs": [
    {
     "name": "stdout",
     "output_type": "stream",
     "text": [
      "[22, 44]\n"
     ]
    }
   ],
   "source": [
    "# 7. Filter all even numbers from an array `[11, 22, 33, 44, 55]` using a lambda function with `filter()`.\n",
    "\n",
    "array = [11, 22, 33, 44, 55]\n",
    "filter = list(filter(lambda x: x % 2 == 0, array))\n",
    "print(filter)\n"
   ]
  },
  {
   "cell_type": "code",
   "execution_count": 4,
   "metadata": {},
   "outputs": [
    {
     "name": "stdout",
     "output_type": "stream",
     "text": [
      "6\n"
     ]
    }
   ],
   "source": [
    "# 8. Create an array of integers `[2, 3, 5, 7, 11, 13]` and find its length using the `len()` function.\n",
    "\n",
    "array = [2,3,5,7,11,13]\n",
    "\n",
    "print(len(array))"
   ]
  },
  {
   "cell_type": "code",
   "execution_count": 2,
   "metadata": {},
   "outputs": [
    {
     "name": "stdout",
     "output_type": "stream",
     "text": [
      "[3, 6, 9, 12, 15]\n"
     ]
    }
   ],
   "source": [
    "# 9. Use a lambda function to check if a number is a multiple of 3. Apply it to the array `[3, 6, 9, 12, 15]` using `filter()` and print the filtered numbers.\n",
    "\n",
    "array = [3, 6, 9, 12, 15]\n",
    "multiples= list(filter(lambda x: x % 3 == 0, array))\n",
    "print(multiples)"
   ]
  },
  {
   "cell_type": "code",
   "execution_count": 6,
   "metadata": {},
   "outputs": [
    {
     "name": "stdout",
     "output_type": "stream",
     "text": [
      "[1, 2, 3, 4, 5, 6]\n",
      "[1, 2, 3, 4, 5]\n"
     ]
    }
   ],
   "source": [
    "# 10. Create an array `[1, 2, 3, 4, 5]` and append the value `6` to it. Then, remove the last element using the `pop()` method\n",
    "\n",
    "array = [1,2,3,4,5]\n",
    "array.append(6)\n",
    "print(array)\n",
    "array.pop()\n",
    "print(array)"
   ]
  },
  {
   "cell_type": "code",
   "execution_count": null,
   "metadata": {},
   "outputs": [],
   "source": []
  }
 ],
 "metadata": {
  "kernelspec": {
   "display_name": "Python 3",
   "language": "python",
   "name": "python3"
  },
  "language_info": {
   "codemirror_mode": {
    "name": "ipython",
    "version": 3
   },
   "file_extension": ".py",
   "mimetype": "text/x-python",
   "name": "python",
   "nbconvert_exporter": "python",
   "pygments_lexer": "ipython3",
   "version": "3.12.3"
  }
 },
 "nbformat": 4,
 "nbformat_minor": 2
}

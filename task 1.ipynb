{
 "cells": [
  {
   "cell_type": "code",
   "execution_count": 2,
   "metadata": {},
   "outputs": [
    {
     "name": "stdout",
     "output_type": "stream",
     "text": [
      "sum of two number is  15\n"
     ]
    }
   ],
   "source": [
    "# 1. Add two numbers and print the result. Example: 5 + 10 = ?\n",
    "\n",
    "a = int(input(\"Enter first number: \"))\n",
    "b = int(input(\"Enter second number: \"))\n",
    "print(\"sum of two number is \",a+b)"
   ]
  },
  {
   "cell_type": "code",
   "execution_count": 3,
   "metadata": {},
   "outputs": [
    {
     "name": "stdout",
     "output_type": "stream",
     "text": [
      "subtract of two number is  7\n"
     ]
    }
   ],
   "source": [
    "# 2. Subtract one number from another and display the result. Example: 15 - 8 = ?\n",
    "\n",
    "a = int(input(\"Enter first number: \"))\n",
    "b = int(input(\"Enter second number: \"))\n",
    "print(\"subtract of two number is \",a-b)"
   ]
  },
  {
   "cell_type": "code",
   "execution_count": 4,
   "metadata": {},
   "outputs": [
    {
     "name": "stdout",
     "output_type": "stream",
     "text": [
      "multiply of two number is  21\n"
     ]
    }
   ],
   "source": [
    "# 3. Multiply two numbers and print the result. Example: 3 * 7 = ?\n",
    "\n",
    "a = int(input(\"Enter first number: \"))\n",
    "b = int(input(\"Enter second number: \"))\n",
    "print(\"multiply of two number is \",a*b)"
   ]
  },
  {
   "cell_type": "code",
   "execution_count": 9,
   "metadata": {},
   "outputs": [
    {
     "name": "stdout",
     "output_type": "stream",
     "text": [
      "Divide of two number is  5.0\n"
     ]
    }
   ],
   "source": [
    "# 4. Divide one number by another and print the quotient. Example: 20 ÷ 4 = ?\n",
    "\n",
    "a = int(input(\"Enter first number: \"))\n",
    "b = int(input(\"Enter second number: \"))\n",
    "print(\"Divide of two number is \",a/b)"
   ]
  },
  {
   "cell_type": "code",
   "execution_count": 10,
   "metadata": {},
   "outputs": [
    {
     "name": "stdout",
     "output_type": "stream",
     "text": [
      "First number is even\n"
     ]
    }
   ],
   "source": [
    "# 5. Use the modulus operator (%) to check if a number is even or odd. Example: 10 % 2 = 0 (Even)\n",
    "\n",
    "a = int(input(\"Enter first number: \"))\n",
    "\n",
    "if a % 2 == 0:\n",
    "    print(\"num number is even\")\n",
    "else:\n",
    "    print(\"num number is odd\")"
   ]
  },
  {
   "cell_type": "code",
   "execution_count": 11,
   "metadata": {},
   "outputs": [
    {
     "name": "stdout",
     "output_type": "stream",
     "text": [
      "Divide of two number is  49\n"
     ]
    }
   ],
   "source": [
    "# 6. Find the square of a number using the ** operator. Example: 7 ** 2 = ?\n",
    "\n",
    "a = int(input(\"Enter first number: \"))\n",
    "b = int(input(\"Enter second number: \"))\n",
    "print(\"Squar of two number is \",a**b)"
   ]
  },
  {
   "cell_type": "code",
   "execution_count": 13,
   "metadata": {},
   "outputs": [
    {
     "name": "stdout",
     "output_type": "stream",
     "text": [
      "area of a rectangle  is  15\n"
     ]
    }
   ],
   "source": [
    "# Calculate the area of a rectangle (length × breadth). Example: Length = 5, Breadth = 3.\n",
    "\n",
    "length = int(input(\"Enter length: \"))\n",
    "breadth= int(input(\"Enter breadth: \"))\n",
    "print(\"area of a rectangle  is \",length*breadth)"
   ]
  },
  {
   "cell_type": "code",
   "execution_count": 15,
   "metadata": {},
   "outputs": [
    {
     "name": "stdout",
     "output_type": "stream",
     "text": [
      "value of a is  10\n",
      "value of b is  5\n"
     ]
    }
   ],
   "source": [
    "# 8. Write a program to swap two numbers using a third variable. Example: a = 5, b = 10 → Swap → a = 10, b = 5.\n",
    "\n",
    "a = int(input(\"Enter first number: \"))\n",
    "b = int(input(\"Enter second number: \"))\n",
    "c = a\n",
    "a = b\n",
    "b = c\n",
    "\n",
    "print(\"value of a is \",a)\n",
    "print(\"value of b is \",b)"
   ]
  },
  {
   "cell_type": "code",
   "execution_count": 17,
   "metadata": {},
   "outputs": [
    {
     "name": "stdout",
     "output_type": "stream",
     "text": [
      "20.0\n"
     ]
    }
   ],
   "source": [
    "# 9. Add three numbers and calculate their average. Example: 5, 10, 15 → Average = ?\n",
    "\n",
    "a = int(input(\"Enter First number: \"))\n",
    "b = int(input(\"Enter Second number: \"))\n",
    "c = int(input(\"enter Third number\"))\n",
    "\n",
    "Average = a+b+c / 3\n",
    "print(Average)"
   ]
  },
  {
   "cell_type": "code",
   "execution_count": 18,
   "metadata": {},
   "outputs": [
    {
     "name": "stdout",
     "output_type": "stream",
     "text": [
      "77.0\n"
     ]
    }
   ],
   "source": [
    "# Use or to check if a number is divisible by 3 or 5. Example: Number = 15 → True.\n",
    "\n",
    "celcius = int(input(\"Enter Temperature in celsius : \"))\n",
    "fahrenheit = (celcius * 9/5) + 32\n",
    "\n",
    "print(fahrenheit)"
   ]
  },
  {
   "cell_type": "code",
   "execution_count": 50,
   "metadata": {},
   "outputs": [
    {
     "name": "stdout",
     "output_type": "stream",
     "text": [
      "Number is Negative\n"
     ]
    }
   ],
   "source": [
    "# 1. Write a program to check if a number is positive using the and operator. Example: 10 > 0 and 10 != 0\n",
    "\n",
    "a = int(input(\"Enter First number: \"))\n",
    "\n",
    "if a > 0 and a != 0:\n",
    "    print(\"Number is Positive\")\n",
    "else:\n",
    "    print(\"Number is Negative\")"
   ]
  },
  {
   "cell_type": "code",
   "execution_count": 6,
   "metadata": {},
   "outputs": [
    {
     "name": "stdout",
     "output_type": "stream",
     "text": [
      "a is not eligible for vote\n"
     ]
    }
   ],
   "source": [
    "# 2. Check if a person is eligible to vote (Age ≥ 18) using and. Example: Age = 20 → Eligible.\n",
    "\n",
    "a = int(input(\"Enter First number: \"))\n",
    "\n",
    "if a <= 17 :\n",
    "    print(\"a is not eligible for vote\")\n",
    "else:\n",
    "    print(\"a is eligible for vote\")"
   ]
  },
  {
   "cell_type": "code",
   "execution_count": null,
   "metadata": {},
   "outputs": [
    {
     "name": "stdout",
     "output_type": "stream",
     "text": [
      " The 15 is True\n"
     ]
    }
   ],
   "source": [
    "# 3. Use or to check if a number is divisible by 3 or 5. Example: Number = 15 → True.\n",
    "\n",
    "a = int(input(\"Enter First number: \"))\n",
    "\n",
    "division = (a % 3 == 0) or (a % 5 == 0)\n",
    "\n",
    "print(f\"{division}\")\n"
   ]
  },
  {
   "cell_type": "code",
   "execution_count": null,
   "metadata": {},
   "outputs": [
    {
     "name": "stdout",
     "output_type": "stream",
     "text": [
      "False\n"
     ]
    }
   ],
   "source": [
    "# 4. Use the not operator to reverse a condition (check if a number is not zero). Example: Number = 0 → False.\n",
    "\n",
    "number = int(input(\"Enter any number : \"))\n",
    "\n",
    "print(f\"{number != 0 }\")"
   ]
  },
  {
   "cell_type": "code",
   "execution_count": 37,
   "metadata": {},
   "outputs": [
    {
     "name": "stdout",
     "output_type": "stream",
     "text": [
      "True\n"
     ]
    }
   ],
   "source": [
    "# 5. Write a program to check if a number lies between 1 and 100 using and. Example: Number = 50 → True.\n",
    "\n",
    "a = int(input(\"Enter number: \"))\n",
    "\n",
    "# if a <= 0 or a >= 100:\n",
    "#     print(\"Number is not between 1 and 100\")\n",
    "# else:\n",
    "#     print(\"Number is  between 1 and 100\")\n",
    "\n",
    "print(f\"{a >= 0 and a <= 100}\")"
   ]
  },
  {
   "cell_type": "code",
   "execution_count": 38,
   "metadata": {},
   "outputs": [
    {
     "name": "stdout",
     "output_type": "stream",
     "text": [
      "False\n"
     ]
    }
   ],
   "source": [
    "# 6. Check if a character is a vowel (a, e, i, o, u) using or. Example: Character = 'e' → True.\n",
    "\n",
    "text = input(\"Enter any charecter\")\n",
    "vowel = [\"a\",\"e\",\"i\",\"o\",\"u\"]\n",
    "print(f\"{text == vowel }\")"
   ]
  },
  {
   "cell_type": "code",
   "execution_count": 39,
   "metadata": {},
   "outputs": [
    {
     "name": "stdout",
     "output_type": "stream",
     "text": [
      "True\n"
     ]
    }
   ],
   "source": [
    "# 7. Validate if a number is neither negative nor zero using not. Example: Number = 5 → True.\n",
    "\n",
    "number = int(input(\"Enter any number\"))\n",
    "print(f\"{number >= 0}\")"
   ]
  },
  {
   "cell_type": "code",
   "execution_count": 2,
   "metadata": {},
   "outputs": [
    {
     "name": "stdout",
     "output_type": "stream",
     "text": [
      "True\n"
     ]
    }
   ],
   "source": [
    "# 8. Combine and and or to check if a person is eligible for a scholarship: (Age ≤ 25 and Grade ≥ 85) or Sports Quota. Example: Age = 22, Grade = 90 → True.\n",
    "\n",
    "age = int(input(\"Enter age : \"))\n",
    "grade = int(input(\"Enter your Grade : \"))\n",
    "\n",
    "print(f\"{age <= 25 and grade >= 85}\")"
   ]
  },
  {
   "cell_type": "code",
   "execution_count": null,
   "metadata": {},
   "outputs": [
    {
     "name": "stdout",
     "output_type": "stream",
     "text": [
      "True\n"
     ]
    }
   ],
   "source": [
    "# 9. Check if a string is empty using not. Example: String = \"\" → True.\n",
    "\n",
    "string = input(\"Enter any string : \")\n",
    "\n",
    "print(f\"{string == \"\"}\")"
   ]
  },
  {
   "cell_type": "code",
   "execution_count": 5,
   "metadata": {},
   "outputs": [
    {
     "name": "stdout",
     "output_type": "stream",
     "text": [
      "True\n"
     ]
    }
   ],
   "source": [
    "# 10. Write a program to check if a number is both even and greater than 10. Example: Number = 14 → True.\n",
    "\n",
    "number = int(input(\"Enter any number : \"))\n",
    "\n",
    "print(f\"{number >= 10}\")"
   ]
  },
  {
   "cell_type": "code",
   "execution_count": null,
   "metadata": {},
   "outputs": [],
   "source": []
  }
 ],
 "metadata": {
  "kernelspec": {
   "display_name": "Python 3",
   "language": "python",
   "name": "python3"
  },
  "language_info": {
   "codemirror_mode": {
    "name": "ipython",
    "version": 3
   },
   "file_extension": ".py",
   "mimetype": "text/x-python",
   "name": "python",
   "nbconvert_exporter": "python",
   "pygments_lexer": "ipython3",
   "version": "3.13.1"
  }
 },
 "nbformat": 4,
 "nbformat_minor": 2
}

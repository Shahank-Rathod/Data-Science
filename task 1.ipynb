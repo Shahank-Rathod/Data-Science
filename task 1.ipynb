{
 "cells": [
  {
   "cell_type": "code",
   "execution_count": 2,
   "metadata": {},
   "outputs": [
    {
     "name": "stdout",
     "output_type": "stream",
     "text": [
      "sum of two number is  15\n"
     ]
    }
   ],
   "source": [
    "a = int(input(\"Enter first number: \"))\n",
    "b = int(input(\"Enter second number: \"))\n",
    "print(\"sum of two number is \",a+b)"
   ]
  },
  {
   "cell_type": "code",
   "execution_count": 3,
   "metadata": {},
   "outputs": [
    {
     "name": "stdout",
     "output_type": "stream",
     "text": [
      "subtract of two number is  7\n"
     ]
    }
   ],
   "source": [
    "a = int(input(\"Enter first number: \"))\n",
    "b = int(input(\"Enter second number: \"))\n",
    "print(\"subtract of two number is \",a-b)"
   ]
  },
  {
   "cell_type": "code",
   "execution_count": 4,
   "metadata": {},
   "outputs": [
    {
     "name": "stdout",
     "output_type": "stream",
     "text": [
      "multiply of two number is  21\n"
     ]
    }
   ],
   "source": [
    "a = int(input(\"Enter first number: \"))\n",
    "b = int(input(\"Enter second number: \"))\n",
    "print(\"multiply of two number is \",a*b)"
   ]
  },
  {
   "cell_type": "code",
   "execution_count": 9,
   "metadata": {},
   "outputs": [
    {
     "name": "stdout",
     "output_type": "stream",
     "text": [
      "Divide of two number is  5.0\n"
     ]
    }
   ],
   "source": [
    "a = int(input(\"Enter first number: \"))\n",
    "b = int(input(\"Enter second number: \"))\n",
    "print(\"Divide of two number is \",a/b)"
   ]
  },
  {
   "cell_type": "code",
   "execution_count": 10,
   "metadata": {},
   "outputs": [
    {
     "name": "stdout",
     "output_type": "stream",
     "text": [
      "First number is even\n"
     ]
    }
   ],
   "source": [
    "a = int(input(\"Enter first number: \"))\n",
    "\n",
    "if a % 2 == 0:\n",
    "    print(\"num number is even\")\n",
    "else:\n",
    "    print(\"num number is odd\")"
   ]
  },
  {
   "cell_type": "code",
   "execution_count": 11,
   "metadata": {},
   "outputs": [
    {
     "name": "stdout",
     "output_type": "stream",
     "text": [
      "Divide of two number is  49\n"
     ]
    }
   ],
   "source": [
    "a = int(input(\"Enter first number: \"))\n",
    "b = int(input(\"Enter second number: \"))\n",
    "print(\"Squar of two number is \",a**b)"
   ]
  },
  {
   "cell_type": "code",
   "execution_count": 13,
   "metadata": {},
   "outputs": [
    {
     "name": "stdout",
     "output_type": "stream",
     "text": [
      "area of a rectangle  is  15\n"
     ]
    }
   ],
   "source": [
    "length = int(input(\"Enter length: \"))\n",
    "breadth= int(input(\"Enter breadth: \"))\n",
    "print(\"area of a rectangle  is \",length*breadth)"
   ]
  },
  {
   "cell_type": "code",
   "execution_count": 15,
   "metadata": {},
   "outputs": [
    {
     "name": "stdout",
     "output_type": "stream",
     "text": [
      "value of a is  10\n",
      "value of b is  5\n"
     ]
    }
   ],
   "source": [
    "a = int(input(\"Enter first number: \"))\n",
    "b = int(input(\"Enter second number: \"))\n",
    "c = a\n",
    "a = b\n",
    "b = c\n",
    "\n",
    "print(\"value of a is \",a)\n",
    "print(\"value of b is \",b)"
   ]
  },
  {
   "cell_type": "code",
   "execution_count": 17,
   "metadata": {},
   "outputs": [
    {
     "name": "stdout",
     "output_type": "stream",
     "text": [
      "20.0\n"
     ]
    }
   ],
   "source": [
    "a = int(input(\"Enter First number: \"))\n",
    "b = int(input(\"Enter Second number: \"))\n",
    "c = int(input(\"enter Third number\"))\n",
    "\n",
    "Average = a+b+c / 3\n",
    "print(Average)"
   ]
  },
  {
   "cell_type": "code",
   "execution_count": 18,
   "metadata": {},
   "outputs": [
    {
     "name": "stdout",
     "output_type": "stream",
     "text": [
      "77.0\n"
     ]
    }
   ],
   "source": [
    "celcius = int(input(\"Enter Temperature in celsius : \"))\n",
    "fahrenheit = (celcius * 9/5) + 32\n",
    "\n",
    "print(fahrenheit)"
   ]
  },
  {
   "cell_type": "code",
   "execution_count": 3,
   "metadata": {},
   "outputs": [
    {
     "name": "stdout",
     "output_type": "stream",
     "text": [
      "Number is positive\n"
     ]
    }
   ],
   "source": [
    "a = int(input(\"Enter First number: \"))\n",
    "\n",
    "if a < 0:\n",
    "    print(\"Number is Negative\")\n",
    "else:\n",
    "    print(\"Number is positive\")"
   ]
  },
  {
   "cell_type": "code",
   "execution_count": 6,
   "metadata": {},
   "outputs": [
    {
     "name": "stdout",
     "output_type": "stream",
     "text": [
      "a is not eligible for vote\n"
     ]
    }
   ],
   "source": [
    "a = int(input(\"Enter First number: \"))\n",
    "\n",
    "if a <= 17 :\n",
    "    print(\"a is not eligible for vote\")\n",
    "else:\n",
    "    print(\"a is eligible for vote\")"
   ]
  },
  {
   "cell_type": "code",
   "execution_count": 15,
   "metadata": {},
   "outputs": [
    {
     "name": "stdout",
     "output_type": "stream",
     "text": [
      "The number is not divisible by 3 or 5\n"
     ]
    }
   ],
   "source": [
    "# a = int(input(\"Enter First number: \"))\n",
    "\n",
    "# if a / 3 == 0 or a / 5 == 0:\n",
    "#     print(\"The number is divisible by 3 or 5\")\n",
    "# else:\n",
    "#     print(\"The number is not divisible by 3 or 5\")"
   ]
  },
  {
   "cell_type": "code",
   "execution_count": 29,
   "metadata": {},
   "outputs": [
    {
     "name": "stdout",
     "output_type": "stream",
     "text": [
      "True\n"
     ]
    }
   ],
   "source": [
    "a = int(input(\"Enter First number: \"))\n",
    "\n",
    "if a <= 0 or a >= 100:\n",
    "    print(\"Number is not between 1 and 100\")\n",
    "else:\n",
    "    print(\"Number is  between 1 and 100\")\n",
    "\n",
    "# print(f\"{a >= 0 or a <= 100}\")"
   ]
  },
  {
   "cell_type": "code",
   "execution_count": null,
   "metadata": {},
   "outputs": [],
   "source": [
    "text = input(\"Enter any charecter\")\n",
    "\n",
    "if text is a or i or o or u or e"
   ]
  }
 ],
 "metadata": {
  "kernelspec": {
   "display_name": "Python 3",
   "language": "python",
   "name": "python3"
  },
  "language_info": {
   "codemirror_mode": {
    "name": "ipython",
    "version": 3
   },
   "file_extension": ".py",
   "mimetype": "text/x-python",
   "name": "python",
   "nbconvert_exporter": "python",
   "pygments_lexer": "ipython3",
   "version": "3.12.3"
  }
 },
 "nbformat": 4,
 "nbformat_minor": 2
}

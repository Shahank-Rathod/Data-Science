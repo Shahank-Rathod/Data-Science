{
 "cells": [
  {
   "cell_type": "code",
   "execution_count": 3,
   "metadata": {},
   "outputs": [
    {
     "name": "stdout",
     "output_type": "stream",
     "text": [
      "120\n"
     ]
    }
   ],
   "source": [
    "# 1.\tWrite a recursive function to calculate the factorial of a given number.\n",
    "\n",
    "def factorial(n):\n",
    "    if n == 0:\n",
    "        return 1\n",
    "    else:\n",
    "        return n*factorial(n-1)\n",
    "print(factorial(5))"
   ]
  },
  {
   "cell_type": "code",
   "execution_count": 5,
   "metadata": {},
   "outputs": [
    {
     "name": "stdout",
     "output_type": "stream",
     "text": [
      "55\n"
     ]
    }
   ],
   "source": [
    "# 2.\tCreate a recursive function to find the nth Fibonacci number.\n",
    "\n",
    "def fibonacci(n):\n",
    "    if n == 0:\n",
    "        return 0\n",
    "    elif n == 1:\n",
    "        return 1\n",
    "    else:\n",
    "        return fibonacci(n-1)+fibonacci(n-2)\n",
    "print(fibonacci(10))    \n",
    "\n",
    "\n"
   ]
  },
  {
   "cell_type": "code",
   "execution_count": 8,
   "metadata": {},
   "outputs": [
    {
     "name": "stdout",
     "output_type": "stream",
     "text": [
      "olleh\n"
     ]
    }
   ],
   "source": [
    "\n",
    "\n",
    "def string_reverse(string):\n",
    "    if len(string) == 0:\n",
    "        return string\n",
    "    else:\n",
    "        return string_reverse(string[1:]) + string[0]\n",
    "print(string_reverse(\"hello\"))"
   ]
  },
  {
   "cell_type": "code",
   "execution_count": 12,
   "metadata": {},
   "outputs": [
    {
     "name": "stdout",
     "output_type": "stream",
     "text": [
      "True\n"
     ]
    }
   ],
   "source": [
    "# 4.\tDevelop a recursive solution to check if a given number is a palindrome.\n",
    "\n",
    "def palindrome(n):\n",
    "    if n == n[::-1]:\n",
    "        return True\n",
    "    else:\n",
    "        return False\n",
    "print(palindrome(\"121\"))"
   ]
  },
  {
   "cell_type": "code",
   "execution_count": 17,
   "metadata": {},
   "outputs": [
    {
     "name": "stdout",
     "output_type": "stream",
     "text": [
      "16\n"
     ]
    }
   ],
   "source": [
    "# 5.\tImplement a recursive function to find the greatest common divisor (GCD) of two numbers.\n",
    "\n",
    "def gcd(a,b):\n",
    "    if b==0:\n",
    "        return a\n",
    "    else:\n",
    "        return gcd(b,a&b)\n",
    "print(gcd(12,16))"
   ]
  },
  {
   "cell_type": "code",
   "execution_count": 1,
   "metadata": {},
   "outputs": [
    {
     "name": "stdout",
     "output_type": "stream",
     "text": [
      "Move disk 1 from A to C\n",
      "Move disk 2 from A to B\n",
      "Move disk 1 from C to B\n",
      "Move disk 3 from A to C\n",
      "Move disk 1 from B to A\n",
      "Move disk 2 from B to C\n",
      "Move disk 1 from A to C\n"
     ]
    }
   ],
   "source": [
    "# 6.\tCreate a recursive function to solve the Tower of Hanoi problem for n disks.\n",
    "\n",
    "# def tower_of_hanoi(n,source,destination,auxiliary):\n",
    "#     if n == 1:\n",
    "#         print(f\"Move disk 1 from {source} to {destination}\")\n",
    "#         return\n",
    "#     tower_of_hanoi(n-1,source,auxiliary,destination)\n",
    "#     print(f\"Move disk {n} from {source} to {destination}\")\n",
    "#     tower_of_hanoi(n-1,auxiliary,destination,source)\n",
    "# tower_of_hanoi(3,'A','C','B')    "
   ]
  },
  {
   "cell_type": "code",
   "execution_count": 4,
   "metadata": {},
   "outputs": [
    {
     "name": "stdout",
     "output_type": "stream",
     "text": [
      "10\n"
     ]
    }
   ],
   "source": [
    "# 7.\tWrite a recursive function to calculate the sum of digits of a given number.\n",
    "\n",
    "def sum(a,b):\n",
    "    if a and b == 0:\n",
    "        return 0\n",
    "    else:\n",
    "        return a+b\n",
    "print(sum(5,5))"
   ]
  },
  {
   "cell_type": "code",
   "execution_count": 7,
   "metadata": {},
   "outputs": [
    {
     "name": "stdout",
     "output_type": "stream",
     "text": [
      "[[], [3], [2], [2, 3], [1], [1, 3], [1, 2], [1, 2, 3]]\n"
     ]
    }
   ],
   "source": [
    "# 8. Develop a recursive function to generate all subsets of a given set.\n",
    "\n",
    "def subset(s):\n",
    "    if len(s) == 0:\n",
    "        return [[]]\n",
    "    else:\n",
    "        return subset(s[1:])+[[s[0]]+i for i in subset(s[1:])]\n",
    "print(subset([1,2,3]))"
   ]
  },
  {
   "cell_type": "code",
   "execution_count": 8,
   "metadata": {},
   "outputs": [
    {
     "name": "stdout",
     "output_type": "stream",
     "text": [
      "8\n"
     ]
    }
   ],
   "source": [
    "# 9. Create a recursive function to find the power of a number using exponentiation.\n",
    "\n",
    "def power(a,b):\n",
    "    if b == 0:\n",
    "        return 1\n",
    "    else:\n",
    "        return a*power(a,b-1)\n",
    "print(power(2,3))"
   ]
  },
  {
   "cell_type": "code",
   "execution_count": 9,
   "metadata": {},
   "outputs": [],
   "source": [
    "# 10.\tWrite a recursive function to solve a maze represented as a 2D grid.\n",
    "\n"
   ]
  },
  {
   "cell_type": "markdown",
   "metadata": {},
   "source": [
    "Dictionary Tasks :-"
   ]
  },
  {
   "cell_type": "code",
   "execution_count": 10,
   "metadata": {},
   "outputs": [
    {
     "name": "stdout",
     "output_type": "stream",
     "text": [
      "{'a': 400, 'b': 400, 'd': 400, 'c': 300}\n"
     ]
    }
   ],
   "source": [
    "# 11.\tWrite a program to merge two dictionaries, summing values of common keys.\n",
    "\n",
    "dict1 = {'a': 100, 'b': 200, 'c':300}\n",
    "dict2 = {'a': 300, 'b': 200, 'd':400}\n",
    "\n",
    "for i in dict1:\n",
    "    if i in dict2:\n",
    "        dict2[i] = dict1[i]+dict2[i]\n",
    "    else:\n",
    "        dict2[i] = dict1[i]\n",
    "print(dict2)\n"
   ]
  },
  {
   "cell_type": "code",
   "execution_count": 12,
   "metadata": {},
   "outputs": [
    {
     "name": "stdout",
     "output_type": "stream",
     "text": [
      "b 90\n"
     ]
    }
   ],
   "source": [
    "# 12.\tCreate a dictionary to store student names and their scores, then find the top scorer.\n",
    "\n",
    "student = {\"a\": 80, \"b\" : 90, \"c\": 70}\n",
    "top = max(student,key=student.get)\n",
    "print(top,student[top])"
   ]
  },
  {
   "cell_type": "code",
   "execution_count": 14,
   "metadata": {},
   "outputs": [
    {
     "name": "stdout",
     "output_type": "stream",
     "text": [
      "{'s': 1}\n"
     ]
    }
   ],
   "source": [
    "# 13.\tWrite a function to count the frequency of each character in a given string using a dictionary.\n",
    "\n",
    "def frequency(string):\n",
    "    dict = {}\n",
    "    for i in string:\n",
    "        if i in dict:\n",
    "            dict[i] +=1\n",
    "        else:\n",
    "            dict[i]=1\n",
    "            return dict\n",
    "print(frequency(\"shashank\"))\n"
   ]
  },
  {
   "cell_type": "code",
   "execution_count": 16,
   "metadata": {},
   "outputs": [
    {
     "name": "stdout",
     "output_type": "stream",
     "text": [
      "{100: 'a', 200: 'b', 300: 'c'}\n"
     ]
    }
   ],
   "source": [
    "# 14.\tDevelop a program to invert a dictionary, swapping keys and values.\n",
    "\n",
    "dict = {'a': 100, 'b': 200, 'c': 300}\n",
    "dict1 ={v:k for k,v in dict.items()}\n",
    "print(dict1)"
   ]
  },
  {
   "cell_type": "code",
   "execution_count": 17,
   "metadata": {},
   "outputs": [
    {
     "name": "stdout",
     "output_type": "stream",
     "text": [
      "30\n"
     ]
    }
   ],
   "source": [
    "# 15.\tCreate a nested dictionary to store employee data and retrieve specific information.\n",
    "\n",
    "employee = {\n",
    "    \"John\": {\n",
    "        \"age\": 30,\n",
    "        \"salary\": 50000\n",
    "    },\n",
    "    \"Alice\": {\n",
    "        \"age\": 25,\n",
    "        \"salary\": 60000\n",
    "    }\n",
    "}\n",
    "print(employee[\"John\"][\"age\"])\n"
   ]
  },
  {
   "cell_type": "code",
   "execution_count": 18,
   "metadata": {},
   "outputs": [
    {
     "name": "stdout",
     "output_type": "stream",
     "text": [
      "Hello, John!\n"
     ]
    }
   ],
   "source": [
    "# 16.\tWrite a function to group a list of words by their first letter using a dictionary.\n",
    "\n",
    "def greet(name: str) -> None:\n",
    "    print(f\"Hello, {name}!\")\n",
    "\n",
    "# Example usage:\n",
    "greet(\"John\")"
   ]
  },
  {
   "cell_type": "code",
   "execution_count": 3,
   "metadata": {},
   "outputs": [
    {
     "name": "stdout",
     "output_type": "stream",
     "text": [
      "{'brand': 'Chevrolet', 'model': 'camaro', 'year': 1967}\n"
     ]
    }
   ],
   "source": [
    "# 17.\tDevelop a program to update a dictionary with another dictionary's keys and values.\n",
    "\n",
    "car1 = {\n",
    "    \"brand\" : \"Ford\",\n",
    "    \"model\" : \"mustang\",\n",
    "    \"year\" : 1964\n",
    "}\n",
    "\n",
    "car2 = {\n",
    "    \"brand\" : \"Chevrolet\",\n",
    "    \"model\" : \"camaro\",\n",
    "    \"year\" : 1967\n",
    "}\n",
    "car1.update(car2)\n",
    "print(car1)"
   ]
  },
  {
   "cell_type": "code",
   "execution_count": 17,
   "metadata": {},
   "outputs": [
    {
     "name": "stdout",
     "output_type": "stream",
     "text": [
      "The highest value is: brand\n"
     ]
    }
   ],
   "source": [
    "# 18.\tCreate a program to find keys with the highest and lowest values in a dictionary.\n",
    "\n",
    "car = {\n",
    "    \"brand\" : \"Ford\",\n",
    "    \"model\" : \"mustang\",\n",
    "    \"year\" : 1964\n",
    "}\n",
    "y = \"\"\n",
    "for x in car:\n",
    "    if x > (y):\n",
    "        y = x\n",
    "        print(\"The highest value is:\", y)\n",
    "        break"
   ]
  },
  {
   "cell_type": "code",
   "execution_count": 18,
   "metadata": {},
   "outputs": [],
   "source": [
    "# 19.\tWrite a program to remove duplicates from a list and count their occurrences using a dictionary.\n"
   ]
  },
  {
   "cell_type": "code",
   "execution_count": 19,
   "metadata": {},
   "outputs": [
    {
     "name": "stdout",
     "output_type": "stream",
     "text": [
      "Ford\n",
      "mustang\n",
      "1964\n"
     ]
    }
   ],
   "source": [
    "# 20.\tDevelop a function to sort a dictionary by its values in ascending and descending order.\n",
    "\n",
    "car = {\n",
    "    \"brand\" : \"Ford\",\n",
    "    \"model\" : \"mustang\",\n",
    "    \"year\" : 1964\n",
    "}\n",
    "\n",
    "y = \"\"\n",
    "for x in car:\n",
    "    y = car[x]\n",
    "    print(y)\n",
    "    \n"
   ]
  },
  {
   "cell_type": "code",
   "execution_count": null,
   "metadata": {},
   "outputs": [],
   "source": []
  }
 ],
 "metadata": {
  "kernelspec": {
   "display_name": "Python 3",
   "language": "python",
   "name": "python3"
  },
  "language_info": {
   "codemirror_mode": {
    "name": "ipython",
    "version": 3
   },
   "file_extension": ".py",
   "mimetype": "text/x-python",
   "name": "python",
   "nbconvert_exporter": "python",
   "pygments_lexer": "ipython3",
   "version": "3.12.3"
  }
 },
 "nbformat": 4,
 "nbformat_minor": 2
}
